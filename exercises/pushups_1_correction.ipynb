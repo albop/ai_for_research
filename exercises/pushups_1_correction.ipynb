{
 "cells": [
  {
   "cell_type": "markdown",
   "id": "17067507",
   "metadata": {},
   "source": [
    "# Problem Set 1\n",
    "\n",
    "See “Check Your Understanding” from [Basics](https://datascience.quantecon.org/../python_fundamentals/basics.html) and [Collections](https://datascience.quantecon.org/../python_fundamentals/collections.html)"
   ]
  },
  {
   "cell_type": "markdown",
   "id": "8783d7f5",
   "metadata": {},
   "source": [
    "## Question 1\n",
    "\n",
    "Below this cell, add\n",
    "\n",
    "1. A Markdown cell with  \n",
    "  - two levels of headings;  \n",
    "  - a numbered list (We ask for a list in Markdown, not a Python list object);  \n",
    "  - an unnumbered list (again not a Python list object);  \n",
    "  - text with a `*` and a `-` sign (hint: look at this cell and [escape characters](https://www.markdownguide.org/basic-syntax/#characters-you-can-escape))  \n",
    "  - backticked code (see [https://github.com/adam-p/markdown-here/wiki/Markdown-Cheatsheet](https://github.com/adam-p/markdown-here/wiki/Markdown-Cheatsheet))  \n",
    "1. A Markdown cell with  \n",
    "  - the [quadratic formula](https://en.wikipedia.org/wiki/Quadratic_formula) embedded in the cell using [LaTeX](https://jupyter-notebook.readthedocs.io/en/stable/examples/Notebook/Typesetting%20Equations.html)  "
   ]
  },
  {
   "cell_type": "markdown",
   "id": "41ac1cd3-5101-4f04-a63b-22eb3f204a9e",
   "metadata": {},
   "source": [
    "`response`:\n",
    "\n",
    "# A rose\n",
    "\n",
    "## is a rose\n",
    "\n",
    "### is a rose\n",
    "\n",
    "1. brexit\n",
    "2. is brexit\n",
    "3. is  brexit\n",
    "\n",
    "Here is  nice quadratic formula:\n",
    "$$\n",
    "x=\\frac{-b\\pm\\sqrt{b^2-4ac}}{2a}\n",
    "$$\n"
   ]
  },
  {
   "cell_type": "markdown",
   "id": "99b2e208",
   "metadata": {},
   "source": [
    "## Question 2\n",
    "\n",
    "Complete the following code, which sets up variables `a, b,` and `c`, to find the roots using the quadratic formula.\n",
    "\n",
    "$$\n",
    "x=\\frac{-b\\pm\\sqrt{b^2-4ac}}{2a}\n",
    "$$\n",
    "\n",
    "Note: because there are two roots, you will need to calculate two values of `x`"
   ]
  },
  {
   "cell_type": "code",
   "execution_count": 4,
   "id": "a933651f",
   "metadata": {
    "hide-output": false
   },
   "outputs": [
    {
     "name": "stdout",
     "output_type": "stream",
     "text": [
      "The two roots are -2.0 and -2.0\n"
     ]
    }
   ],
   "source": [
    "a = 1.0\n",
    "b = 2.0\n",
    "c = 1.0\n",
    "# we need the square root function\n",
    "from math import sqrt\n",
    "\n",
    "x1 = -b+sqrt(b**2-4*a*c)/(2*a)\n",
    "x2 = -b-sqrt(b**2-4*a*c)/(2*a)\n",
    "\n",
    "print(f\"The two roots are {x1} and {x2}\")"
   ]
  },
  {
   "cell_type": "markdown",
   "id": "6efc98e5",
   "metadata": {},
   "source": [
    "## Question 3\n",
    "\n",
    "In the cell below, use tab completion to find a function from the time\n",
    "module that displays the **local** time.\n",
    "\n",
    "Use `time.FUNC_NAME?` (where `FUNC_NAME` is replaced with the name\n",
    "of the function you found) to see information about that function,\n",
    "then call the function. (Hint: look for something involving the word\n",
    "`local`)."
   ]
  },
  {
   "cell_type": "code",
   "execution_count": 7,
   "id": "09f217d7",
   "metadata": {
    "hide-output": false
   },
   "outputs": [
    {
     "data": {
      "text/plain": [
       "time.struct_time(tm_year=2023, tm_mon=2, tm_mday=7, tm_hour=23, tm_min=15, tm_sec=33, tm_wday=1, tm_yday=38, tm_isdst=0)"
      ]
     },
     "execution_count": 7,
     "metadata": {},
     "output_type": "execute_result"
    }
   ],
   "source": [
    "import time\n",
    "# Your code goes here\n",
    "# time. # uncomment and hit <TAB> to see functions\n",
    "\n",
    "time.localtime()"
   ]
  },
  {
   "cell_type": "markdown",
   "id": "b9217624",
   "metadata": {},
   "source": [
    "Hint: if you are using an online jupyter server, the time will be based on\n",
    "the server settings.  If it doesn’t match your location, don’t worry about it."
   ]
  },
  {
   "cell_type": "markdown",
   "id": "81aa74ea",
   "metadata": {},
   "source": [
    "## Question 4\n",
    "\n",
    "Create the following variables:\n",
    "\n",
    "- `D`: A floating point number with the value 10,000  \n",
    "- `r`: A floating point number with the value 0.025  \n",
    "- `T`: An integer with the value 30  \n",
    "\n",
    "\n",
    "Compute the present discounted value of a payment (`D`) made\n",
    "in `T` years, assuming an interest rate of 2.5%. Save this value to\n",
    "a new variable called `PDV` and print your output.\n",
    "\n",
    "Hint: The formula is\n",
    "\n",
    "$$\n",
    "\\text{PDV} = \\frac{D}{(1 + r)^T}\n",
    "$$"
   ]
  },
  {
   "cell_type": "code",
   "execution_count": 11,
   "id": "9a7ba817",
   "metadata": {
    "hide-output": false
   },
   "outputs": [
    {
     "data": {
      "text/plain": [
       "'Present discount factor is:  4.77'"
      ]
     },
     "execution_count": 11,
     "metadata": {},
     "output_type": "execute_result"
    }
   ],
   "source": [
    "# Your code goes here\n",
    "D = 10.0\n",
    "r = 0.025\n",
    "T = 30\n",
    "\n",
    "PDV = D/(1+r)**T\n",
    "\n",
    "f\"Present discount factor is: {PDV: .2f}\"   # the .2f is an instruction to limit the number of float numbers"
   ]
  },
  {
   "cell_type": "markdown",
   "id": "b13c538a",
   "metadata": {},
   "source": [
    "## Question 5\n",
    "\n",
    "How could you use the variables `x` and `y` to create the sentence\n",
    "`Hello World` ?\n",
    "\n",
    "Hint: Think about how to represent a space as a string."
   ]
  },
  {
   "cell_type": "code",
   "execution_count": 13,
   "id": "01636637",
   "metadata": {
    "hide-output": false
   },
   "outputs": [
    {
     "data": {
      "text/plain": [
       "'Hello World'"
      ]
     },
     "execution_count": 13,
     "metadata": {},
     "output_type": "execute_result"
    }
   ],
   "source": [
    "x = \"Hello\"\n",
    "y = \"World\"\n",
    "# Your code goes here\n",
    "\n",
    "x+\" \"+y"
   ]
  },
  {
   "cell_type": "markdown",
   "id": "a3a16b8e",
   "metadata": {},
   "source": [
    "## Question 6\n",
    "\n",
    "Suppose you are working with price data and come across the value\n",
    "`\"€6.50\"`.\n",
    "\n",
    "When Python tries to interpret this value, it sees the value as the string\n",
    "`\"€6.50\"` instead of the number `6.50`. (Quiz: why is this a\n",
    "problem? Think about the examples above.)\n",
    "\n",
    "In this exercise, your task is to convert the variable `price` below\n",
    "into a number.\n",
    "\n",
    "*Hint*: Once the string is in a suitable format, you can call\n",
    "`float(clean_price)` to make it a number."
   ]
  },
  {
   "cell_type": "code",
   "execution_count": 18,
   "id": "bb03c427",
   "metadata": {
    "hide-output": false
   },
   "outputs": [
    {
     "data": {
      "text/plain": [
       "6.5"
      ]
     },
     "execution_count": 18,
     "metadata": {},
     "output_type": "execute_result"
    }
   ],
   "source": [
    "price = \"€6.50\"\n",
    "# Your code goes here\n",
    "\n",
    "# remove the euro symbol\n",
    "price[1:]\n",
    "s = price.strip(\"€\")\n",
    "\n",
    "float(s)"
   ]
  },
  {
   "cell_type": "markdown",
   "id": "add429e7",
   "metadata": {},
   "source": [
    "## Question 7\n",
    "\n",
    "Use Python formatting (e.g. `print(f\"text {somecode}\")` where `somecode` is a valid expression or variable name) to produce the following\n",
    "output."
   ]
  },
  {
   "cell_type": "markdown",
   "id": "fbe912d5",
   "metadata": {
    "hide-output": false
   },
   "source": [
    "```text\n",
    "The 1st quarter revenue was $110M\n",
    "The 2nd quarter revenue was $95M\n",
    "The 3rd quarter revenue was $100M\n",
    "The 4th quarter revenue was $130M\n",
    "```\n"
   ]
  },
  {
   "cell_type": "code",
   "execution_count": 19,
   "id": "5ad79dec",
   "metadata": {
    "hide-output": false
   },
   "outputs": [
    {
     "name": "stdout",
     "output_type": "stream",
     "text": [
      "The 1st quarter revenue was 110M\n",
      "The 2nd quarter revenue was 95M\n",
      "The 3rd quarter revenue was 100M\n",
      "The 4th quarter revenue was 130M\n"
     ]
    }
   ],
   "source": [
    "ns = [110, 95, 100, 130]\n",
    "qs = [\"1st\", \"2nd\", \"3rd\", \"4th\"]\n",
    "\n",
    "\n",
    "for i in [0, 1, 2, 3]:\n",
    "    q = qs[i]\n",
    "    n = ns[i]\n",
    "    s = f\"The {q} quarter revenue was {n}M\"\n",
    "    print(s)"
   ]
  },
  {
   "cell_type": "markdown",
   "id": "f7675791",
   "metadata": {},
   "source": [
    "## Question 8\n",
    "\n",
    "Define two lists y and z.\n",
    "\n",
    "They can contain **anything you want**.\n",
    "\n",
    "Check what happens when you do y + z.\n",
    "When you have finished that, try 2 * x and x * 2 where x represents the object you created from y + z.\n",
    "\n",
    "Briefly explain."
   ]
  },
  {
   "cell_type": "code",
   "execution_count": 21,
   "id": "73acefc7",
   "metadata": {
    "hide-output": false
   },
   "outputs": [
    {
     "data": {
      "text/plain": [
       "[1, 2, 3, 4, 5, 'once', 'I', 'caught', 'a', 'fish', 'alive']"
      ]
     },
     "execution_count": 21,
     "metadata": {},
     "output_type": "execute_result"
    }
   ],
   "source": [
    "y = [1,2,3,4,5] # fill me in!\n",
    "z = [\"once\", \"I\", \"caught\", \"a\", \"fish\", \"alive\"] # fill me in!\n",
    "# Your code goes here"
   ]
  },
  {
   "cell_type": "code",
   "execution_count": 24,
   "id": "6b6f8a5d-b11a-4c5d-8293-85baf37d42c8",
   "metadata": {},
   "outputs": [
    {
     "data": {
      "text/plain": [
       "[1, 2, 3, 4, 5, 'once', 'I', 'caught', 'a', 'fish', 'alive']"
      ]
     },
     "execution_count": 24,
     "metadata": {},
     "output_type": "execute_result"
    }
   ],
   "source": [
    "x = y+z # concatenates the two strings\n",
    "x"
   ]
  },
  {
   "cell_type": "code",
   "execution_count": 25,
   "id": "2df3ac36-96f5-4995-8bb4-9dec5fa15997",
   "metadata": {},
   "outputs": [
    {
     "data": {
      "text/plain": [
       "[1,\n",
       " 2,\n",
       " 3,\n",
       " 4,\n",
       " 5,\n",
       " 'once',\n",
       " 'I',\n",
       " 'caught',\n",
       " 'a',\n",
       " 'fish',\n",
       " 'alive',\n",
       " 1,\n",
       " 2,\n",
       " 3,\n",
       " 4,\n",
       " 5,\n",
       " 'once',\n",
       " 'I',\n",
       " 'caught',\n",
       " 'a',\n",
       " 'fish',\n",
       " 'alive']"
      ]
     },
     "execution_count": 25,
     "metadata": {},
     "output_type": "execute_result"
    }
   ],
   "source": [
    "2*x # repeats the list twice"
   ]
  }
 ],
 "metadata": {
  "date": 1673670629.3126786,
  "filename": "problem_set_1.md",
  "kernelspec": {
   "display_name": "Python 3 (ipykernel)",
   "language": "python",
   "name": "python3"
  },
  "language_info": {
   "codemirror_mode": {
    "name": "ipython",
    "version": 3
   },
   "file_extension": ".py",
   "mimetype": "text/x-python",
   "name": "python",
   "nbconvert_exporter": "python",
   "pygments_lexer": "ipython3",
   "version": "3.9.15"
  },
  "title": "Problem Set 1"
 },
 "nbformat": 4,
 "nbformat_minor": 5
}
