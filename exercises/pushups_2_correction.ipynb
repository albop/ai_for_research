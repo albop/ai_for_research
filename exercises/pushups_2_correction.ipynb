{
 "cells": [
  {
   "cell_type": "markdown",
   "id": "aa92bc77-cd2b-40c9-ab00-3434535c8395",
   "metadata": {},
   "source": [
    "# Pushups 2"
   ]
  },
  {
   "cell_type": "markdown",
   "id": "5549b57d-fb56-494a-bd96-ec6bac1067a1",
   "metadata": {},
   "source": [
    "## Tuples and dictionaries"
   ]
  },
  {
   "cell_type": "markdown",
   "id": "5cb458d1-2781-45d4-9d07-8df9a07b2e79",
   "metadata": {},
   "source": [
    "### Exercise 1\n",
    "\n",
    "Verify that tuples are indeed immutable by attempting the following:\n",
    "\n",
    "- Changing the first element of `t` to be `100`  \n",
    "- Appending a new element `\"!!\"` to the end of `t` (remember with a\n",
    "  list `x` we would use `x.append(\"!!\")` to do this  \n",
    "- Sorting `t`  \n",
    "- Reversing `t`  "
   ]
  },
  {
   "cell_type": "code",
   "execution_count": 5,
   "id": "351e03d6-93b5-4f08-8bcb-a4127ec63ed4",
   "metadata": {},
   "outputs": [],
   "source": [
    "t = (2,2,4)"
   ]
  },
  {
   "cell_type": "code",
   "execution_count": 6,
   "id": "d3863ada-f60c-4ec2-9a26-682ccb916410",
   "metadata": {
    "hide-output": false
   },
   "outputs": [
    {
     "ename": "TypeError",
     "evalue": "'tuple' object does not support item assignment",
     "output_type": "error",
     "traceback": [
      "\u001b[0;31m---------------------------------------------------------------------------\u001b[0m",
      "\u001b[0;31mTypeError\u001b[0m                                 Traceback (most recent call last)",
      "Cell \u001b[0;32mIn[6], line 2\u001b[0m\n\u001b[1;32m      1\u001b[0m \u001b[38;5;66;03m# change first element of t\u001b[39;00m\n\u001b[0;32m----> 2\u001b[0m \u001b[43mt\u001b[49m\u001b[43m[\u001b[49m\u001b[38;5;241;43m0\u001b[39;49m\u001b[43m]\u001b[49m \u001b[38;5;241m=\u001b[39m \u001b[38;5;241m100\u001b[39m\n",
      "\u001b[0;31mTypeError\u001b[0m: 'tuple' object does not support item assignment"
     ]
    }
   ],
   "source": [
    "# change first element of t\n",
    "t[0] = 100"
   ]
  },
  {
   "cell_type": "code",
   "execution_count": 7,
   "id": "ebbea338-74f4-4bb2-bd9d-631eabe3389e",
   "metadata": {
    "hide-output": false
   },
   "outputs": [
    {
     "ename": "AttributeError",
     "evalue": "'tuple' object has no attribute 'append'",
     "output_type": "error",
     "traceback": [
      "\u001b[0;31m---------------------------------------------------------------------------\u001b[0m",
      "\u001b[0;31mAttributeError\u001b[0m                            Traceback (most recent call last)",
      "Cell \u001b[0;32mIn[7], line 2\u001b[0m\n\u001b[1;32m      1\u001b[0m \u001b[38;5;66;03m# appending to t\u001b[39;00m\n\u001b[0;32m----> 2\u001b[0m \u001b[43mt\u001b[49m\u001b[38;5;241;43m.\u001b[39;49m\u001b[43mappend\u001b[49m(\u001b[38;5;241m3\u001b[39m)\n",
      "\u001b[0;31mAttributeError\u001b[0m: 'tuple' object has no attribute 'append'"
     ]
    }
   ],
   "source": [
    "# appending to t\n",
    "t.append(3)"
   ]
  },
  {
   "cell_type": "code",
   "execution_count": 8,
   "id": "af10bc19-c307-442a-8bb0-b95270540a4c",
   "metadata": {
    "hide-output": false
   },
   "outputs": [
    {
     "ename": "AttributeError",
     "evalue": "'tuple' object has no attribute 'sort'",
     "output_type": "error",
     "traceback": [
      "\u001b[0;31m---------------------------------------------------------------------------\u001b[0m",
      "\u001b[0;31mAttributeError\u001b[0m                            Traceback (most recent call last)",
      "Cell \u001b[0;32mIn[8], line 2\u001b[0m\n\u001b[1;32m      1\u001b[0m \u001b[38;5;66;03m# sorting t\u001b[39;00m\n\u001b[0;32m----> 2\u001b[0m \u001b[43mt\u001b[49m\u001b[38;5;241;43m.\u001b[39;49m\u001b[43msort\u001b[49m()\n",
      "\u001b[0;31mAttributeError\u001b[0m: 'tuple' object has no attribute 'sort'"
     ]
    }
   ],
   "source": [
    "# sorting t\n",
    "t.sort()"
   ]
  },
  {
   "cell_type": "code",
   "execution_count": 10,
   "id": "3cb7d779-eac0-463c-b2b4-73e5f3f8562a",
   "metadata": {},
   "outputs": [
    {
     "data": {
      "text/plain": [
       "[2, 2, 4]"
      ]
     },
     "execution_count": 10,
     "metadata": {},
     "output_type": "execute_result"
    }
   ],
   "source": [
    "# this works and returns a new list\n",
    "sorted(t)"
   ]
  },
  {
   "cell_type": "code",
   "execution_count": 12,
   "id": "5b3669ee-7d72-41ec-b173-bdfdd21649d3",
   "metadata": {
    "hide-output": false
   },
   "outputs": [
    {
     "ename": "AttributeError",
     "evalue": "'tuple' object has no attribute 'reverse'",
     "output_type": "error",
     "traceback": [
      "\u001b[0;31m---------------------------------------------------------------------------\u001b[0m",
      "\u001b[0;31mAttributeError\u001b[0m                            Traceback (most recent call last)",
      "Cell \u001b[0;32mIn[12], line 2\u001b[0m\n\u001b[1;32m      1\u001b[0m \u001b[38;5;66;03m# reversing t\u001b[39;00m\n\u001b[0;32m----> 2\u001b[0m \u001b[43mt\u001b[49m\u001b[38;5;241;43m.\u001b[39;49m\u001b[43mreverse\u001b[49m()\n",
      "\u001b[0;31mAttributeError\u001b[0m: 'tuple' object has no attribute 'reverse'"
     ]
    }
   ],
   "source": [
    "# reversing t\n",
    "t.reverse()"
   ]
  },
  {
   "cell_type": "markdown",
   "id": "f6f4f969-0269-42bb-9fa3-f778f5e15ba0",
   "metadata": {},
   "source": [
    "### Exercise 2\n",
    "\n",
    "Create a new dict which associates stock tickers with its stock price.\n",
    "\n",
    "Here are some tickers and a price.\n",
    "\n",
    "- AAPL: 175.96  \n",
    "- GOOGL: 1047.43  \n",
    "- TVIX: 8.38  "
   ]
  },
  {
   "cell_type": "code",
   "execution_count": 16,
   "id": "c6cf689c-ce71-421f-875e-364e5475885a",
   "metadata": {
    "hide-output": false
   },
   "outputs": [
    {
     "data": {
      "text/plain": [
       "{'AAPL': 175.96, 'GOOGL': 1047.43, 'TVIX': 8.38}"
      ]
     },
     "execution_count": 16,
     "metadata": {},
     "output_type": "execute_result"
    }
   ],
   "source": [
    "# your code here\n",
    "{\n",
    "    \"AAPL\": 175.96,\n",
    "    \"GOOGL\": 1047.43,\n",
    "    \"TVIX\": 8.38\n",
    "}"
   ]
  },
  {
   "cell_type": "markdown",
   "id": "1220b408-1445-49f7-a25d-8dea41fa42ed",
   "metadata": {},
   "source": [
    "### Exercise 3\n",
    "\n",
    "Look at the [World Factbook for Australia](https://www.cia.gov/the-world-factbook/countries/australia)\n",
    "and create a dictionary with data containing the following types:\n",
    "float, string, integer, list, and dict.  Choose any data you wish.\n",
    "\n",
    "To confirm, you should have a dictionary that you identified via a key."
   ]
  },
  {
   "cell_type": "code",
   "execution_count": 25,
   "id": "843dc5be-4917-413f-801c-8e6f99ce45d0",
   "metadata": {
    "hide-output": false
   },
   "outputs": [],
   "source": [
    "# your code here\n",
    "australia_data = {\n",
    "    \"coast_line\": 253760, #int\n",
    "    \"languages\": { # dict\n",
    "        \"English\": 72,\n",
    "        \"Mandarin\": 2.7,\n",
    "        \"Arabic\": 1.4,\n",
    "        \"Vietnamese\": 1.3,\n",
    "        \"Cantonese\": 1.2,\n",
    "        \"other\": 15.7,\n",
    "        \"unspecified\": 5.7\n",
    "    },\n",
    "    \"irrigated_land\": 15.210, #float\n",
    "    \"aquifers\": [\"Great Artesian Basin\", \"Canning Basin\"], # list\n",
    "    # string\n",
    "    \"population_distribution\": \"\"\"population is primarily located on the periphery, with the highest concentration of people residing in the east and southeast; a secondary population center is located in and around Perth in the west; of the States and Territories, New South Wales has, by far, the largest population; the interior, or \"outback\", has a very sparse population\"\"\"\n",
    "}"
   ]
  },
  {
   "cell_type": "markdown",
   "id": "c3db985c-8dfd-4860-8863-7d101fd6a0a8",
   "metadata": {},
   "source": [
    "### Exercise 4\n",
    "\n",
    "Use Jupyter’s help facilities to learn how to use the `pop` method to\n",
    "remove the key `\"irrigated_land\"` (and its value) from the dict."
   ]
  },
  {
   "cell_type": "code",
   "execution_count": 27,
   "id": "af07a55a-97f5-4094-9dc3-80d14e12460a",
   "metadata": {
    "hide-output": false
   },
   "outputs": [
    {
     "data": {
      "text/plain": [
       "15.21"
      ]
     },
     "execution_count": 27,
     "metadata": {},
     "output_type": "execute_result"
    }
   ],
   "source": [
    "# uncomment and use the Inspector or ?\n",
    "australia_data.pop(\"irrigated_land\")"
   ]
  },
  {
   "cell_type": "code",
   "execution_count": 28,
   "id": "bee662fb-8c96-487a-9e3b-b399e1074e1a",
   "metadata": {},
   "outputs": [
    {
     "data": {
      "text/plain": [
       "{'coast_line': 253760,\n",
       " 'languages': {'English': 72,\n",
       "  'Mandarin': 2.7,\n",
       "  'Arabic': 1.4,\n",
       "  'Vietnamese': 1.3,\n",
       "  'Cantonese': 1.2,\n",
       "  'other': 15.7,\n",
       "  'unspecified': 5.7},\n",
       " 'aquifers': ['Great Artesian Basin', 'Canning Basin'],\n",
       " 'population_distribution': 'population is primarily located on the periphery, with the highest concentration of people residing in the east and southeast; a secondary population center is located in and around Perth in the west; of the States and Territories, New South Wales has, by far, the largest population; the interior, or \"outback\", has a very sparse population'}"
      ]
     },
     "execution_count": 28,
     "metadata": {},
     "output_type": "execute_result"
    }
   ],
   "source": [
    "australia_data"
   ]
  },
  {
   "cell_type": "markdown",
   "id": "ddf40bc3-105c-4361-846f-22d6abf02ee9",
   "metadata": {},
   "source": [
    "### Exercise 5\n",
    "\n",
    "Explain what happens to the value you popped."
   ]
  },
  {
   "cell_type": "code",
   "execution_count": null,
   "id": "08f10dec-eb09-4fdb-b78e-a340564b567a",
   "metadata": {},
   "outputs": [],
   "source": [
    "It returns the value, and removes it from the dictionary object."
   ]
  },
  {
   "cell_type": "code",
   "execution_count": 29,
   "id": "f70a087c-8530-48ec-a304-28128d1558e8",
   "metadata": {},
   "outputs": [
    {
     "data": {
      "text/plain": [
       "False"
      ]
     },
     "execution_count": 29,
     "metadata": {},
     "output_type": "execute_result"
    }
   ],
   "source": [
    "'irrigated_land' in australia_data"
   ]
  },
  {
   "cell_type": "markdown",
   "id": "468ab009-41f0-4a6c-8dd9-1cd3c64d56f4",
   "metadata": {},
   "source": [
    "Experiment with calling `pop` twice."
   ]
  },
  {
   "cell_type": "code",
   "execution_count": 31,
   "id": "f8529801-355a-4430-b608-e49c9e70a93e",
   "metadata": {
    "hide-output": false
   },
   "outputs": [
    {
     "ename": "KeyError",
     "evalue": "'irrigated_land'",
     "output_type": "error",
     "traceback": [
      "\u001b[0;31m---------------------------------------------------------------------------\u001b[0m",
      "\u001b[0;31mKeyError\u001b[0m                                  Traceback (most recent call last)",
      "Cell \u001b[0;32mIn[31], line 1\u001b[0m\n\u001b[0;32m----> 1\u001b[0m \u001b[43maustralia_data\u001b[49m\u001b[38;5;241;43m.\u001b[39;49m\u001b[43mpop\u001b[49m\u001b[43m(\u001b[49m\u001b[38;5;124;43m\"\u001b[39;49m\u001b[38;5;124;43mirrigated_land\u001b[39;49m\u001b[38;5;124;43m\"\u001b[39;49m\u001b[43m)\u001b[49m\n\u001b[1;32m      2\u001b[0m \u001b[38;5;66;03m## errors because the key is not in the dictionary any more\u001b[39;00m\n",
      "\u001b[0;31mKeyError\u001b[0m: 'irrigated_land'"
     ]
    }
   ],
   "source": [
    "australia_data.pop(\"irrigated_land\")\n",
    "## errors because the key is not in the dictionary any more"
   ]
  },
  {
   "cell_type": "markdown",
   "id": "744f1fa9-e331-430b-8def-038b3f1a75d0",
   "metadata": {},
   "source": [
    "## Prep work for the Philips Curve\n",
    "\n",
    "Note, if `dbnomics` is not installed on your machine, install it by running the following cell:"
   ]
  },
  {
   "cell_type": "markdown",
   "id": "17584129-9d0e-494c-a2a1-06544901e22c",
   "metadata": {},
   "source": [
    "# check tutorial from session 3"
   ]
  },
  {
   "cell_type": "code",
   "execution_count": null,
   "id": "77f03131-0535-4d97-aa91-343c44388287",
   "metadata": {},
   "outputs": [],
   "source": []
  }
 ],
 "metadata": {
  "kernelspec": {
   "display_name": "Python 3 (ipykernel)",
   "language": "python",
   "name": "python3"
  },
  "language_info": {
   "codemirror_mode": {
    "name": "ipython",
    "version": 3
   },
   "file_extension": ".py",
   "mimetype": "text/x-python",
   "name": "python",
   "nbconvert_exporter": "python",
   "pygments_lexer": "ipython3",
   "version": "3.9.15"
  }
 },
 "nbformat": 4,
 "nbformat_minor": 5
}
