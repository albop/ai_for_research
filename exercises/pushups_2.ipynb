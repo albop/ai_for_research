{
 "cells": [
  {
   "cell_type": "markdown",
   "id": "aa92bc77-cd2b-40c9-ab00-3434535c8395",
   "metadata": {},
   "source": [
    "# Python Pushups (2)"
   ]
  },
  {
   "cell_type": "markdown",
   "id": "5549b57d-fb56-494a-bd96-ec6bac1067a1",
   "metadata": {},
   "source": [
    "## Tuples and dictionaries"
   ]
  },
  {
   "cell_type": "markdown",
   "id": "5cb458d1-2781-45d4-9d07-8df9a07b2e79",
   "metadata": {},
   "source": [
    "### Exercise 1\n",
    "\n",
    "Verify that tuples are indeed immutable by attempting the following:\n",
    "\n",
    "- Changing the first element of `t` to be `100`  \n",
    "- Appending a new element `\"!!\"` to the end of `t` (remember with a\n",
    "  list `x` we would use `x.append(\"!!\")` to do this  \n",
    "- Sorting `t`  \n",
    "- Reversing `t`  "
   ]
  },
  {
   "cell_type": "code",
   "execution_count": 1,
   "id": "351e03d6-93b5-4f08-8bcb-a4127ec63ed4",
   "metadata": {},
   "outputs": [],
   "source": [
    "t = (2,2,4)"
   ]
  },
  {
   "cell_type": "code",
   "execution_count": 2,
   "id": "d3863ada-f60c-4ec2-9a26-682ccb916410",
   "metadata": {
    "hide-output": false
   },
   "outputs": [],
   "source": [
    "# change first element of t\n"
   ]
  },
  {
   "cell_type": "code",
   "execution_count": 3,
   "id": "ebbea338-74f4-4bb2-bd9d-631eabe3389e",
   "metadata": {
    "hide-output": false
   },
   "outputs": [],
   "source": [
    "# appending to t\n"
   ]
  },
  {
   "cell_type": "code",
   "execution_count": 5,
   "id": "af10bc19-c307-442a-8bb0-b95270540a4c",
   "metadata": {
    "hide-output": false
   },
   "outputs": [],
   "source": [
    "# sorting t\n"
   ]
  },
  {
   "cell_type": "code",
   "execution_count": 10,
   "id": "3cb7d779-eac0-463c-b2b4-73e5f3f8562a",
   "metadata": {},
   "outputs": [
    {
     "data": {
      "text/plain": [
       "[2, 2, 4]"
      ]
     },
     "execution_count": 10,
     "metadata": {},
     "output_type": "execute_result"
    }
   ],
   "source": [
    "# this works and returns a new list\n",
    "sorted(t)"
   ]
  },
  {
   "cell_type": "code",
   "execution_count": 6,
   "id": "5b3669ee-7d72-41ec-b173-bdfdd21649d3",
   "metadata": {
    "hide-output": false
   },
   "outputs": [],
   "source": [
    "# reversing t\n"
   ]
  },
  {
   "cell_type": "markdown",
   "id": "f6f4f969-0269-42bb-9fa3-f778f5e15ba0",
   "metadata": {},
   "source": [
    "### Exercise 2\n",
    "\n",
    "Create a new dict which associates stock tickers with its stock price.\n",
    "\n",
    "Here are some tickers and a price.\n",
    "\n",
    "- AAPL: 175.96  \n",
    "- GOOGL: 1047.43  \n",
    "- TVIX: 8.38  "
   ]
  },
  {
   "cell_type": "code",
   "execution_count": 7,
   "id": "c6cf689c-ce71-421f-875e-364e5475885a",
   "metadata": {
    "hide-output": false
   },
   "outputs": [],
   "source": [
    "# your code here\n"
   ]
  },
  {
   "cell_type": "markdown",
   "id": "1220b408-1445-49f7-a25d-8dea41fa42ed",
   "metadata": {},
   "source": [
    "### Exercise 3\n",
    "\n",
    "Look at the [World Factbook for Australia](https://www.cia.gov/the-world-factbook/countries/australia)\n",
    "and create a dictionary with data containing the following types:\n",
    "float, string, integer, list, and dict.  Choose any data you wish.\n",
    "\n",
    "To confirm, you should have a dictionary that you identified via a key."
   ]
  },
  {
   "cell_type": "code",
   "execution_count": 25,
   "id": "843dc5be-4917-413f-801c-8e6f99ce45d0",
   "metadata": {
    "hide-output": false
   },
   "outputs": [],
   "source": [
    "# your code here\n"
   ]
  },
  {
   "cell_type": "markdown",
   "id": "c3db985c-8dfd-4860-8863-7d101fd6a0a8",
   "metadata": {},
   "source": [
    "### Exercise 4\n",
    "\n",
    "Use Jupyter’s help facilities to learn how to use the `pop` method to\n",
    "remove the key `\"irrigated_land\"` (and its value) from the dict."
   ]
  },
  {
   "cell_type": "code",
   "execution_count": 8,
   "id": "af07a55a-97f5-4094-9dc3-80d14e12460a",
   "metadata": {
    "hide-output": false
   },
   "outputs": [],
   "source": [
    "# uncomment and use the Inspector or ?\n"
   ]
  },
  {
   "cell_type": "markdown",
   "id": "ddf40bc3-105c-4361-846f-22d6abf02ee9",
   "metadata": {},
   "source": [
    "### Exercise 5\n",
    "\n",
    "Explain what happens to the value you popped."
   ]
  },
  {
   "cell_type": "code",
   "execution_count": null,
   "id": "d52e3d8d-04e6-466f-b012-8ecc1daac8d4",
   "metadata": {},
   "outputs": [],
   "source": []
  },
  {
   "cell_type": "markdown",
   "id": "468ab009-41f0-4a6c-8dd9-1cd3c64d56f4",
   "metadata": {},
   "source": [
    "Experiment with calling `pop` twice."
   ]
  },
  {
   "cell_type": "code",
   "execution_count": null,
   "id": "f8529801-355a-4430-b608-e49c9e70a93e",
   "metadata": {
    "hide-output": false
   },
   "outputs": [],
   "source": []
  }
 ],
 "metadata": {
  "kernelspec": {
   "display_name": "Python 3 (ipykernel)",
   "language": "python",
   "name": "python3"
  },
  "language_info": {
   "codemirror_mode": {
    "name": "ipython",
    "version": 3
   },
   "file_extension": ".py",
   "mimetype": "text/x-python",
   "name": "python",
   "nbconvert_exporter": "python",
   "pygments_lexer": "ipython3",
   "version": "3.10.13"
  }
 },
 "nbformat": 4,
 "nbformat_minor": 5
}
