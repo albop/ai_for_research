{
  "cells": [
    {
      "cell_type": "markdown",
      "metadata": {},
      "source": [
        "# Sentiment Analysis\n",
        "\n",
        "The ultimate goal of this exercise consists performing the same\n",
        "exercise, namely sentiment analysis, using traditional NLP and GPT-3.5.\n",
        "\n",
        "## The Dataset\n",
        "\n",
        "We use the [News Sentiment\n",
        "Dataset](https://www.kaggle.com/datasets/yasserh/twitter-tweets-sentiment-dataset)\n",
        "from Kaggle."
      ],
      "id": "e3164df1-c85e-4b5a-894d-5f911a33f3cb"
    },
    {
      "cell_type": "code",
      "execution_count": 2,
      "metadata": {},
      "outputs": [
        {
          "output_type": "stream",
          "name": "stdout",
          "text": [
            "/files/tutorials/session_2"
          ]
        }
      ],
      "source": [
        "cd tutorials/session_2"
      ],
      "id": "cell-3"
    },
    {
      "cell_type": "code",
      "execution_count": 3,
      "metadata": {},
      "outputs": [
        {
          "output_type": "display_data",
          "metadata": {},
          "data": {
            "text/plain": [
              "'/files/tutorials/session_2'"
            ]
          }
        }
      ],
      "source": [
        "pwd"
      ],
      "id": "cell-4"
    },
    {
      "cell_type": "markdown",
      "metadata": {},
      "source": [
        "1.  **Import Dataset as a pandas dataframe**"
      ],
      "id": "5c3be4dd-129e-4848-bfd7-3aeb1f90f297"
    },
    {
      "cell_type": "code",
      "execution_count": 4,
      "metadata": {},
      "outputs": [],
      "source": [
        "import pandas\n",
        "df = pandas.read_csv(\"Tweets.csv\")"
      ],
      "id": "cell-6"
    },
    {
      "cell_type": "code",
      "execution_count": 5,
      "metadata": {},
      "outputs": [
        {
          "output_type": "display_data",
          "metadata": {},
          "data": {
            "text/html": [
              "\n",
              "<p>27481 rows × 4 columns</p>\n",
              "</div>"
            ]
          }
        }
      ],
      "source": [
        "df"
      ],
      "id": "cell-7"
    },
    {
      "cell_type": "code",
      "execution_count": 12,
      "metadata": {},
      "outputs": [
        {
          "output_type": "display_data",
          "metadata": {},
          "data": {
            "text/plain": [
              "' hahahah of course  they have such a nasty display picture :`)'"
            ]
          }
        }
      ],
      "source": [
        "df.iloc[1200,:]['text']"
      ],
      "id": "cell-8"
    },
    {
      "cell_type": "markdown",
      "metadata": {},
      "source": [
        "1.  **Describe Dataset (text and graphs)**\n",
        "\n",
        "2.  **Split Dataset into training, validation and test set. What is the\n",
        "    purpose of the validation set?**\n",
        "\n",
        "## Text Mining\n",
        "\n",
        "1.  **Extract features from the training dataset. What do you do with\n",
        "    non-words / punctuation?**\n",
        "\n",
        "2.  **Convert occurrencies to frequencies. Make another version with\n",
        "    tf-idf.**\n",
        "\n",
        "3.  **Choose a classifier to predict the sentiment on the *validation*\n",
        "    set. Compute the confusion matrix.**\n",
        "\n",
        "## Sentiment Analysis using GPT completion\n",
        "\n",
        "1.  **Setup an openai key. Explore openai *completion* API.**"
      ],
      "id": "1f07a3b7-5e46-46fd-923a-0724391e7a77"
    },
    {
      "cell_type": "code",
      "execution_count": 6,
      "metadata": {},
      "outputs": [],
      "source": [
        "import openai"
      ],
      "id": "cell-22"
    },
    {
      "cell_type": "code",
      "execution_count": null,
      "metadata": {},
      "outputs": [],
      "source": [
        "# R"
      ],
      "id": "cell-23"
    },
    {
      "cell_type": "code",
      "execution_count": null,
      "metadata": {},
      "outputs": [
        {
          "output_type": "display_data",
          "metadata": {},
          "data": {
            "text/plain": [
              "'1.3.5'"
            ]
          }
        }
      ],
      "source": [
        "# make sure we have the right version\n",
        "from openai import version\n",
        "openai.version.VERSION"
      ],
      "id": "cell-24"
    },
    {
      "cell_type": "code",
      "execution_count": null,
      "metadata": {},
      "outputs": [],
      "source": [
        "api_key = \"\""
      ],
      "id": "cell-25"
    },
    {
      "cell_type": "markdown",
      "metadata": {},
      "source": [
        "1.  **Design a prompt to extract the sentiment from a tweet. Test it on\n",
        "    very few tweets from the training dataset. Propose different\n",
        "    versions.**\n",
        "\n",
        "2.  **Write a function which takes in: the prompt template, the tweet\n",
        "    text and returns the sentiment as an integer.**\n",
        "\n",
        "## Performance shootout\n",
        "\n",
        "1.  **Compare the various methods on the test set.**"
      ],
      "id": "566570f7-5451-4745-bf3d-7631388d8876"
    }
  ],
  "nbformat": 4,
  "nbformat_minor": 5,
  "metadata": {
    "kernelspec": {
      "name": "python3",
      "display_name": "Python 3 (ipykernel)",
      "language": "python"
    },
    "language_info": {
      "name": "python",
      "codemirror_mode": {
        "name": "ipython",
        "version": "3"
      },
      "file_extension": ".py",
      "mimetype": "text/x-python",
      "nbconvert_exporter": "python",
      "pygments_lexer": "ipython3",
      "version": "3.10.13"
    }
  }
}