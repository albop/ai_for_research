{
 "cells": [
  {
   "cell_type": "markdown",
   "metadata": {},
   "source": [
    "# Sentiment analysis (correction)\n",
    "\n",
    "## AI for research, 2023\n",
    "\n",
    "The ultimate goal of this exercise consists performing the same exercise, namely sentiment analysis, \n",
    "using traditional NLP and GPT-3.5."
   ]
  },
  {
   "cell_type": "markdown",
   "metadata": {},
   "source": [
    "## The Dataset\n",
    "\n",
    "We use the [News Sentiment Dataset](https://www.kaggle.com/datasets/yasserh/twitter-tweets-sentiment-dataset) from Kaggle."
   ]
  },
  {
   "cell_type": "code",
   "execution_count": 2,
   "metadata": {},
   "outputs": [
    {
     "name": "stdout",
     "output_type": "stream",
     "text": [
      "/files/tutorials/session_2\n"
     ]
    }
   ],
   "source": [
    "cd tutorials/session_2"
   ]
  },
  {
   "cell_type": "code",
   "execution_count": 3,
   "metadata": {},
   "outputs": [
    {
     "data": {
      "text/plain": [
       "'/files/tutorials/session_2'"
      ]
     },
     "execution_count": 3,
     "metadata": {},
     "output_type": "execute_result"
    }
   ],
   "source": [
    "pwd"
   ]
  },
  {
   "cell_type": "markdown",
   "metadata": {
    "vscode": {
     "languageId": "julia"
    }
   },
   "source": [
    "1. __Import Dataset as a pandas dataframe__"
   ]
  },
  {
   "cell_type": "code",
   "execution_count": 4,
   "metadata": {},
   "outputs": [],
   "source": [
    "import pandas\n",
    "df = pandas.read_csv(\"Tweets.csv\")"
   ]
  },
  {
   "cell_type": "code",
   "execution_count": 5,
   "metadata": {},
   "outputs": [
    {
     "data": {
      "text/html": [
       "<div>\n",
       "<style scoped>\n",
       "    .dataframe tbody tr th:only-of-type {\n",
       "        vertical-align: middle;\n",
       "    }\n",
       "\n",
       "    .dataframe tbody tr th {\n",
       "        vertical-align: top;\n",
       "    }\n",
       "\n",
       "    .dataframe thead th {\n",
       "        text-align: right;\n",
       "    }\n",
       "</style>\n",
       "<table border=\"1\" class=\"dataframe\">\n",
       "  <thead>\n",
       "    <tr style=\"text-align: right;\">\n",
       "      <th></th>\n",
       "      <th>textID</th>\n",
       "      <th>text</th>\n",
       "      <th>selected_text</th>\n",
       "      <th>sentiment</th>\n",
       "    </tr>\n",
       "  </thead>\n",
       "  <tbody>\n",
       "    <tr>\n",
       "      <th>0</th>\n",
       "      <td>cb774db0d1</td>\n",
       "      <td>I`d have responded, if I were going</td>\n",
       "      <td>I`d have responded, if I were going</td>\n",
       "      <td>neutral</td>\n",
       "    </tr>\n",
       "    <tr>\n",
       "      <th>1</th>\n",
       "      <td>549e992a42</td>\n",
       "      <td>Sooo SAD I will 🦈 miss you here in San Diego!!!</td>\n",
       "      <td>Sooo SAD</td>\n",
       "      <td>negative</td>\n",
       "    </tr>\n",
       "    <tr>\n",
       "      <th>2</th>\n",
       "      <td>088c60f138</td>\n",
       "      <td>my boss is bullying me...</td>\n",
       "      <td>bullying me</td>\n",
       "      <td>negative</td>\n",
       "    </tr>\n",
       "    <tr>\n",
       "      <th>3</th>\n",
       "      <td>9642c003ef</td>\n",
       "      <td>what interview! leave me alone</td>\n",
       "      <td>leave me alone</td>\n",
       "      <td>negative</td>\n",
       "    </tr>\n",
       "    <tr>\n",
       "      <th>4</th>\n",
       "      <td>358bd9e861</td>\n",
       "      <td>Sons of ****, why couldn`t they put them on t...</td>\n",
       "      <td>Sons of ****,</td>\n",
       "      <td>negative</td>\n",
       "    </tr>\n",
       "    <tr>\n",
       "      <th>...</th>\n",
       "      <td>...</td>\n",
       "      <td>...</td>\n",
       "      <td>...</td>\n",
       "      <td>...</td>\n",
       "    </tr>\n",
       "    <tr>\n",
       "      <th>27476</th>\n",
       "      <td>4eac33d1c0</td>\n",
       "      <td>wish we could come see u on Denver  husband l...</td>\n",
       "      <td>d lost</td>\n",
       "      <td>negative</td>\n",
       "    </tr>\n",
       "    <tr>\n",
       "      <th>27477</th>\n",
       "      <td>4f4c4fc327</td>\n",
       "      <td>I`ve wondered about rake to.  The client has ...</td>\n",
       "      <td>, don`t force</td>\n",
       "      <td>negative</td>\n",
       "    </tr>\n",
       "    <tr>\n",
       "      <th>27478</th>\n",
       "      <td>f67aae2310</td>\n",
       "      <td>Yay good for both of you. Enjoy the break - y...</td>\n",
       "      <td>Yay good for both of you.</td>\n",
       "      <td>positive</td>\n",
       "    </tr>\n",
       "    <tr>\n",
       "      <th>27479</th>\n",
       "      <td>ed167662a5</td>\n",
       "      <td>But it was worth it  ****.</td>\n",
       "      <td>But it was worth it  ****.</td>\n",
       "      <td>positive</td>\n",
       "    </tr>\n",
       "    <tr>\n",
       "      <th>27480</th>\n",
       "      <td>6f7127d9d7</td>\n",
       "      <td>All this flirting going on - The ATG smiles...</td>\n",
       "      <td>All this flirting going on - The ATG smiles. Y...</td>\n",
       "      <td>neutral</td>\n",
       "    </tr>\n",
       "  </tbody>\n",
       "</table>\n",
       "<p>27481 rows × 4 columns</p>\n",
       "</div>"
      ],
      "text/plain": [
       "           textID                                               text  \\\n",
       "0      cb774db0d1                I`d have responded, if I were going   \n",
       "1      549e992a42    Sooo SAD I will 🦈 miss you here in San Diego!!!   \n",
       "2      088c60f138                          my boss is bullying me...   \n",
       "3      9642c003ef                     what interview! leave me alone   \n",
       "4      358bd9e861   Sons of ****, why couldn`t they put them on t...   \n",
       "...           ...                                                ...   \n",
       "27476  4eac33d1c0   wish we could come see u on Denver  husband l...   \n",
       "27477  4f4c4fc327   I`ve wondered about rake to.  The client has ...   \n",
       "27478  f67aae2310   Yay good for both of you. Enjoy the break - y...   \n",
       "27479  ed167662a5                         But it was worth it  ****.   \n",
       "27480  6f7127d9d7     All this flirting going on - The ATG smiles...   \n",
       "\n",
       "                                           selected_text sentiment  \n",
       "0                    I`d have responded, if I were going   neutral  \n",
       "1                                               Sooo SAD  negative  \n",
       "2                                            bullying me  negative  \n",
       "3                                         leave me alone  negative  \n",
       "4                                          Sons of ****,  negative  \n",
       "...                                                  ...       ...  \n",
       "27476                                             d lost  negative  \n",
       "27477                                      , don`t force  negative  \n",
       "27478                          Yay good for both of you.  positive  \n",
       "27479                         But it was worth it  ****.  positive  \n",
       "27480  All this flirting going on - The ATG smiles. Y...   neutral  \n",
       "\n",
       "[27481 rows x 4 columns]"
      ]
     },
     "execution_count": 5,
     "metadata": {},
     "output_type": "execute_result"
    }
   ],
   "source": [
    "df"
   ]
  },
  {
   "cell_type": "code",
   "execution_count": 6,
   "metadata": {},
   "outputs": [
    {
     "data": {
      "text/plain": [
       "pandas.core.frame.DataFrame"
      ]
     },
     "execution_count": 6,
     "metadata": {},
     "output_type": "execute_result"
    }
   ],
   "source": [
    "df.__class__"
   ]
  },
  {
   "cell_type": "code",
   "execution_count": 7,
   "metadata": {},
   "outputs": [
    {
     "data": {
      "text/plain": [
       "0                      I`d have responded, if I were going\n",
       "1          Sooo SAD I will 🦈 miss you here in San Diego!!!\n",
       "2                                my boss is bullying me...\n",
       "3                           what interview! leave me alone\n",
       "4         Sons of ****, why couldn`t they put them on t...\n",
       "                               ...                        \n",
       "27476     wish we could come see u on Denver  husband l...\n",
       "27477     I`ve wondered about rake to.  The client has ...\n",
       "27478     Yay good for both of you. Enjoy the break - y...\n",
       "27479                           But it was worth it  ****.\n",
       "27480       All this flirting going on - The ATG smiles...\n",
       "Name: text, Length: 27481, dtype: object"
      ]
     },
     "execution_count": 7,
     "metadata": {},
     "output_type": "execute_result"
    }
   ],
   "source": [
    "# indices refer to columns by default\n",
    "df['text']"
   ]
  },
  {
   "cell_type": "code",
   "execution_count": 8,
   "metadata": {},
   "outputs": [
    {
     "data": {
      "text/plain": [
       "'my boss is bullying me...'"
      ]
     },
     "execution_count": 8,
     "metadata": {},
     "output_type": "execute_result"
    }
   ],
   "source": [
    "df.loc[2, 'text']"
   ]
  },
  {
   "cell_type": "code",
   "execution_count": 9,
   "metadata": {},
   "outputs": [
    {
     "data": {
      "text/plain": [
       "textID                                                  968964a722\n",
       "text              hahahah of course  they have such a nasty dis...\n",
       "selected_text                       e such a nasty display picture\n",
       "sentiment                                                 negative\n",
       "Name: 1200, dtype: object"
      ]
     },
     "execution_count": 9,
     "metadata": {},
     "output_type": "execute_result"
    }
   ],
   "source": [
    "# check one entry:\n",
    "df.loc[1200]"
   ]
  },
  {
   "cell_type": "code",
   "execution_count": 10,
   "metadata": {},
   "outputs": [
    {
     "data": {
      "text/plain": [
       "' hahahah of course  they have such a nasty display picture :`)'"
      ]
     },
     "execution_count": 10,
     "metadata": {},
     "output_type": "execute_result"
    }
   ],
   "source": [
    "# keep the text from one entry\n",
    "df.loc[1200]['text']"
   ]
  },
  {
   "cell_type": "markdown",
   "metadata": {},
   "source": [
    "2. __Describe Dataset (text and graphs)__"
   ]
  },
  {
   "cell_type": "code",
   "execution_count": 11,
   "metadata": {},
   "outputs": [
    {
     "data": {
      "text/html": [
       "<div>\n",
       "<style scoped>\n",
       "    .dataframe tbody tr th:only-of-type {\n",
       "        vertical-align: middle;\n",
       "    }\n",
       "\n",
       "    .dataframe tbody tr th {\n",
       "        vertical-align: top;\n",
       "    }\n",
       "\n",
       "    .dataframe thead th {\n",
       "        text-align: right;\n",
       "    }\n",
       "</style>\n",
       "<table border=\"1\" class=\"dataframe\">\n",
       "  <thead>\n",
       "    <tr style=\"text-align: right;\">\n",
       "      <th></th>\n",
       "      <th>textID</th>\n",
       "      <th>text</th>\n",
       "      <th>selected_text</th>\n",
       "      <th>sentiment</th>\n",
       "    </tr>\n",
       "  </thead>\n",
       "  <tbody>\n",
       "    <tr>\n",
       "      <th>count</th>\n",
       "      <td>27481</td>\n",
       "      <td>27480</td>\n",
       "      <td>27480</td>\n",
       "      <td>27481</td>\n",
       "    </tr>\n",
       "    <tr>\n",
       "      <th>unique</th>\n",
       "      <td>27481</td>\n",
       "      <td>27480</td>\n",
       "      <td>22463</td>\n",
       "      <td>3</td>\n",
       "    </tr>\n",
       "    <tr>\n",
       "      <th>top</th>\n",
       "      <td>6f7127d9d7</td>\n",
       "      <td>All this flirting going on - The ATG smiles...</td>\n",
       "      <td>good</td>\n",
       "      <td>neutral</td>\n",
       "    </tr>\n",
       "    <tr>\n",
       "      <th>freq</th>\n",
       "      <td>1</td>\n",
       "      <td>1</td>\n",
       "      <td>199</td>\n",
       "      <td>11118</td>\n",
       "    </tr>\n",
       "  </tbody>\n",
       "</table>\n",
       "</div>"
      ],
      "text/plain": [
       "            textID                                               text  \\\n",
       "count        27481                                              27480   \n",
       "unique       27481                                              27480   \n",
       "top     6f7127d9d7     All this flirting going on - The ATG smiles...   \n",
       "freq             1                                                  1   \n",
       "\n",
       "       selected_text sentiment  \n",
       "count          27480     27481  \n",
       "unique         22463         3  \n",
       "top             good   neutral  \n",
       "freq             199     11118  "
      ]
     },
     "execution_count": 11,
     "metadata": {},
     "output_type": "execute_result"
    }
   ],
   "source": [
    "df.describe()"
   ]
  },
  {
   "cell_type": "code",
   "execution_count": null,
   "metadata": {},
   "outputs": [],
   "source": []
  },
  {
   "cell_type": "code",
   "execution_count": 12,
   "metadata": {},
   "outputs": [],
   "source": [
    "# information about the distrbution of sentiments\n",
    "sentiments = df['sentiment']"
   ]
  },
  {
   "cell_type": "code",
   "execution_count": 13,
   "metadata": {},
   "outputs": [],
   "source": [
    "counts = sentiments.value_counts()"
   ]
  },
  {
   "cell_type": "code",
   "execution_count": 14,
   "metadata": {},
   "outputs": [
    {
     "data": {
      "text/plain": [
       "sentiment\n",
       "neutral     40.457043\n",
       "positive    31.228849\n",
       "negative    28.314108\n",
       "Name: count, dtype: float64"
      ]
     },
     "execution_count": 14,
     "metadata": {},
     "output_type": "execute_result"
    }
   ],
   "source": [
    "counts / sum(counts) * 100"
   ]
  },
  {
   "cell_type": "code",
   "execution_count": 25,
   "metadata": {},
   "outputs": [
    {
     "data": {
      "text/plain": [
       "0        False\n",
       "1        False\n",
       "2        False\n",
       "3        False\n",
       "4        False\n",
       "         ...  \n",
       "27476    False\n",
       "27477    False\n",
       "27478    False\n",
       "27479    False\n",
       "27480    False\n",
       "Name: text, Length: 27481, dtype: bool"
      ]
     },
     "execution_count": 25,
     "metadata": {},
     "output_type": "execute_result"
    }
   ],
   "source": [
    "# this is a series where a line is True only if df['text'] contains \"trump\"\n",
    "ind = df['text'].str.contains(\"trump\", na=False)\n",
    "ind"
   ]
  },
  {
   "cell_type": "code",
   "execution_count": 26,
   "metadata": {},
   "outputs": [
    {
     "data": {
      "text/html": [
       "<div>\n",
       "<style scoped>\n",
       "    .dataframe tbody tr th:only-of-type {\n",
       "        vertical-align: middle;\n",
       "    }\n",
       "\n",
       "    .dataframe tbody tr th {\n",
       "        vertical-align: top;\n",
       "    }\n",
       "\n",
       "    .dataframe thead th {\n",
       "        text-align: right;\n",
       "    }\n",
       "</style>\n",
       "<table border=\"1\" class=\"dataframe\">\n",
       "  <thead>\n",
       "    <tr style=\"text-align: right;\">\n",
       "      <th></th>\n",
       "      <th>textID</th>\n",
       "      <th>text</th>\n",
       "      <th>selected_text</th>\n",
       "      <th>sentiment</th>\n",
       "    </tr>\n",
       "  </thead>\n",
       "  <tbody>\n",
       "    <tr>\n",
       "      <th>1589</th>\n",
       "      <td>6c5505a37c</td>\n",
       "      <td>Enjoy! Family trumps everything</td>\n",
       "      <td>Enjoy! Family trumps everything</td>\n",
       "      <td>positive</td>\n",
       "    </tr>\n",
       "    <tr>\n",
       "      <th>6235</th>\n",
       "      <td>234a562dd9</td>\n",
       "      <td>LOL I love my MacBook too. Oh and my iMac. Ca...</td>\n",
       "      <td>love</td>\n",
       "      <td>positive</td>\n",
       "    </tr>\n",
       "    <tr>\n",
       "      <th>14005</th>\n",
       "      <td>464eafe267</td>\n",
       "      <td>How to get a $40 trumpet book - get caught in ...</td>\n",
       "      <td>caught</td>\n",
       "      <td>negative</td>\n",
       "    </tr>\n",
       "    <tr>\n",
       "      <th>14615</th>\n",
       "      <td>fc16472bdf</td>\n",
       "      <td>Sick kid trumps advance planning.  Bummer</td>\n",
       "      <td>Sick</td>\n",
       "      <td>negative</td>\n",
       "    </tr>\n",
       "    <tr>\n",
       "      <th>22230</th>\n",
       "      <td>2762b6624b</td>\n",
       "      <td>_fan Been busy trumping your cheese omlette wi...</td>\n",
       "      <td>_fan Been busy trumping your cheese omlette wi...</td>\n",
       "      <td>neutral</td>\n",
       "    </tr>\n",
       "  </tbody>\n",
       "</table>\n",
       "</div>"
      ],
      "text/plain": [
       "           textID                                               text  \\\n",
       "1589   6c5505a37c                    Enjoy! Family trumps everything   \n",
       "6235   234a562dd9   LOL I love my MacBook too. Oh and my iMac. Ca...   \n",
       "14005  464eafe267  How to get a $40 trumpet book - get caught in ...   \n",
       "14615  fc16472bdf          Sick kid trumps advance planning.  Bummer   \n",
       "22230  2762b6624b  _fan Been busy trumping your cheese omlette wi...   \n",
       "\n",
       "                                           selected_text sentiment  \n",
       "1589                     Enjoy! Family trumps everything  positive  \n",
       "6235                                                love  positive  \n",
       "14005                                             caught  negative  \n",
       "14615                                               Sick  negative  \n",
       "22230  _fan Been busy trumping your cheese omlette wi...   neutral  "
      ]
     },
     "execution_count": 26,
     "metadata": {},
     "output_type": "execute_result"
    }
   ],
   "source": [
    "# which tweets contain word \"trump\"\n",
    "df[ind]"
   ]
  },
  {
   "cell_type": "code",
   "execution_count": 27,
   "metadata": {},
   "outputs": [
    {
     "data": {
      "text/plain": [
       "5"
      ]
     },
     "execution_count": 27,
     "metadata": {},
     "output_type": "execute_result"
    }
   ],
   "source": [
    "# how many tweets contain word \"trump\"\n",
    "sum(ind)"
   ]
  },
  {
   "cell_type": "markdown",
   "metadata": {},
   "source": [
    "3. __Split Dataset into training, validation and test set. What is the purpose of the validation set?__"
   ]
  },
  {
   "cell_type": "code",
   "execution_count": 40,
   "metadata": {},
   "outputs": [],
   "source": [
    "import sklearn\n",
    "from sklearn.model_selection import train_test_split"
   ]
  },
  {
   "cell_type": "code",
   "execution_count": 41,
   "metadata": {},
   "outputs": [
    {
     "data": {
      "text/plain": [
       "\u001b[0;31mSignature:\u001b[0m\n",
       "\u001b[0mtrain_test_split\u001b[0m\u001b[0;34m(\u001b[0m\u001b[0;34m\u001b[0m\n",
       "\u001b[0;34m\u001b[0m    \u001b[0;34m*\u001b[0m\u001b[0marrays\u001b[0m\u001b[0;34m,\u001b[0m\u001b[0;34m\u001b[0m\n",
       "\u001b[0;34m\u001b[0m    \u001b[0mtest_size\u001b[0m\u001b[0;34m=\u001b[0m\u001b[0;32mNone\u001b[0m\u001b[0;34m,\u001b[0m\u001b[0;34m\u001b[0m\n",
       "\u001b[0;34m\u001b[0m    \u001b[0mtrain_size\u001b[0m\u001b[0;34m=\u001b[0m\u001b[0;32mNone\u001b[0m\u001b[0;34m,\u001b[0m\u001b[0;34m\u001b[0m\n",
       "\u001b[0;34m\u001b[0m    \u001b[0mrandom_state\u001b[0m\u001b[0;34m=\u001b[0m\u001b[0;32mNone\u001b[0m\u001b[0;34m,\u001b[0m\u001b[0;34m\u001b[0m\n",
       "\u001b[0;34m\u001b[0m    \u001b[0mshuffle\u001b[0m\u001b[0;34m=\u001b[0m\u001b[0;32mTrue\u001b[0m\u001b[0;34m,\u001b[0m\u001b[0;34m\u001b[0m\n",
       "\u001b[0;34m\u001b[0m    \u001b[0mstratify\u001b[0m\u001b[0;34m=\u001b[0m\u001b[0;32mNone\u001b[0m\u001b[0;34m,\u001b[0m\u001b[0;34m\u001b[0m\n",
       "\u001b[0;34m\u001b[0m\u001b[0;34m)\u001b[0m\u001b[0;34m\u001b[0m\u001b[0;34m\u001b[0m\u001b[0m\n",
       "\u001b[0;31mDocstring:\u001b[0m\n",
       "Split arrays or matrices into random train and test subsets.\n",
       "\n",
       "Quick utility that wraps input validation,\n",
       "``next(ShuffleSplit().split(X, y))``, and application to input data\n",
       "into a single call for splitting (and optionally subsampling) data into a\n",
       "one-liner.\n",
       "\n",
       "Read more in the :ref:`User Guide <cross_validation>`.\n",
       "\n",
       "Parameters\n",
       "----------\n",
       "*arrays : sequence of indexables with same length / shape[0]\n",
       "    Allowed inputs are lists, numpy arrays, scipy-sparse\n",
       "    matrices or pandas dataframes.\n",
       "\n",
       "test_size : float or int, default=None\n",
       "    If float, should be between 0.0 and 1.0 and represent the proportion\n",
       "    of the dataset to include in the test split. If int, represents the\n",
       "    absolute number of test samples. If None, the value is set to the\n",
       "    complement of the train size. If ``train_size`` is also None, it will\n",
       "    be set to 0.25.\n",
       "\n",
       "train_size : float or int, default=None\n",
       "    If float, should be between 0.0 and 1.0 and represent the\n",
       "    proportion of the dataset to include in the train split. If\n",
       "    int, represents the absolute number of train samples. If None,\n",
       "    the value is automatically set to the complement of the test size.\n",
       "\n",
       "random_state : int, RandomState instance or None, default=None\n",
       "    Controls the shuffling applied to the data before applying the split.\n",
       "    Pass an int for reproducible output across multiple function calls.\n",
       "    See :term:`Glossary <random_state>`.\n",
       "\n",
       "shuffle : bool, default=True\n",
       "    Whether or not to shuffle the data before splitting. If shuffle=False\n",
       "    then stratify must be None.\n",
       "\n",
       "stratify : array-like, default=None\n",
       "    If not None, data is split in a stratified fashion, using this as\n",
       "    the class labels.\n",
       "    Read more in the :ref:`User Guide <stratification>`.\n",
       "\n",
       "Returns\n",
       "-------\n",
       "splitting : list, length=2 * len(arrays)\n",
       "    List containing train-test split of inputs.\n",
       "\n",
       "    .. versionadded:: 0.16\n",
       "        If the input is sparse, the output will be a\n",
       "        ``scipy.sparse.csr_matrix``. Else, output type is the same as the\n",
       "        input type.\n",
       "\n",
       "Examples\n",
       "--------\n",
       ">>> import numpy as np\n",
       ">>> from sklearn.model_selection import train_test_split\n",
       ">>> X, y = np.arange(10).reshape((5, 2)), range(5)\n",
       ">>> X\n",
       "array([[0, 1],\n",
       "       [2, 3],\n",
       "       [4, 5],\n",
       "       [6, 7],\n",
       "       [8, 9]])\n",
       ">>> list(y)\n",
       "[0, 1, 2, 3, 4]\n",
       "\n",
       ">>> X_train, X_test, y_train, y_test = train_test_split(\n",
       "...     X, y, test_size=0.33, random_state=42)\n",
       "...\n",
       ">>> X_train\n",
       "array([[4, 5],\n",
       "       [0, 1],\n",
       "       [6, 7]])\n",
       ">>> y_train\n",
       "[2, 0, 3]\n",
       ">>> X_test\n",
       "array([[2, 3],\n",
       "       [8, 9]])\n",
       ">>> y_test\n",
       "[1, 4]\n",
       "\n",
       ">>> train_test_split(y, shuffle=False)\n",
       "[[0, 1, 2], [3, 4]]\n",
       "\u001b[0;31mFile:\u001b[0m      /opt/conda/lib/python3.10/site-packages/sklearn/model_selection/_split.py\n",
       "\u001b[0;31mType:\u001b[0m      function"
      ]
     },
     "metadata": {},
     "output_type": "display_data"
    }
   ],
   "source": [
    "train_test_split?"
   ]
  },
  {
   "cell_type": "code",
   "execution_count": 54,
   "metadata": {},
   "outputs": [],
   "source": [
    "import sklearn\n",
    "df_, df_test  = sklearn.model_selection.train_test_split(df, test_size=0.1)\n",
    "df_train, df_validation  = sklearn.model_selection.train_test_split(df_, test_size=0.1)"
   ]
  },
  {
   "cell_type": "code",
   "execution_count": 51,
   "metadata": {},
   "outputs": [
    {
     "data": {
      "text/plain": [
       "(2749, 4)"
      ]
     },
     "execution_count": 51,
     "metadata": {},
     "output_type": "execute_result"
    }
   ],
   "source": [
    "df"
   ]
  },
  {
   "cell_type": "code",
   "execution_count": 52,
   "metadata": {},
   "outputs": [
    {
     "data": {
      "text/plain": [
       "(24732, 4)"
      ]
     },
     "execution_count": 52,
     "metadata": {},
     "output_type": "execute_result"
    }
   ],
   "source": [
    "df_train.shape"
   ]
  },
  {
   "cell_type": "markdown",
   "metadata": {},
   "source": [
    "## Text Mining"
   ]
  },
  {
   "cell_type": "markdown",
   "metadata": {},
   "source": [
    "1. __Extract features from the training dataset. What do you do with non-words / punctuation?__"
   ]
  },
  {
   "cell_type": "markdown",
   "metadata": {},
   "source": []
  },
  {
   "cell_type": "markdown",
   "metadata": {},
   "source": [
    "2. __Convert occurrencies to frequencies. Make another version with tf-idf.__"
   ]
  },
  {
   "cell_type": "code",
   "execution_count": 4,
   "metadata": {},
   "outputs": [],
   "source": []
  },
  {
   "cell_type": "markdown",
   "metadata": {},
   "source": [
    "3. __Choose a classifier to predict the sentiment on the *validation* set. Compute the confusion matrix.__"
   ]
  },
  {
   "cell_type": "markdown",
   "metadata": {},
   "source": []
  },
  {
   "cell_type": "markdown",
   "metadata": {},
   "source": [
    "## Sentiment Analysis using GPT completion"
   ]
  },
  {
   "cell_type": "markdown",
   "metadata": {},
   "source": [
    "1. __Setup an openai key. Explore openai *completion* API.__"
   ]
  },
  {
   "cell_type": "code",
   "execution_count": 55,
   "metadata": {},
   "outputs": [],
   "source": [
    "import openai"
   ]
  },
  {
   "cell_type": "code",
   "execution_count": 56,
   "metadata": {},
   "outputs": [
    {
     "data": {
      "text/plain": [
       "'1.3.5'"
      ]
     },
     "execution_count": 56,
     "metadata": {},
     "output_type": "execute_result"
    }
   ],
   "source": [
    "# make sure we have the right version. openai-python API has changed two weeks ago!\n",
    "from openai import version\n",
    "openai.version.VERSION"
   ]
  },
  {
   "cell_type": "code",
   "execution_count": 57,
   "metadata": {},
   "outputs": [
    {
     "name": "stdin",
     "output_type": "stream",
     "text": [
      "Enter your OpenAI API key ········\n"
     ]
    }
   ],
   "source": [
    "# now we setup the API key\n",
    "# api_key = \"your_key\"\n",
    "# if the notebook is stored online we avoid setting the api key directly\n",
    "import getpass\n",
    "api_key = getpass.getpass(prompt=\"Enter your OpenAI API key\")"
   ]
  },
  {
   "cell_type": "code",
   "execution_count": 63,
   "metadata": {},
   "outputs": [],
   "source": [
    "# lookup on google \"openai completion python\"\n",
    "# from the github website, copy the example text\n",
    "\n",
    "from openai import OpenAI\n",
    "\n",
    "client = OpenAI(\n",
    "    api_key=api_key,\n",
    ")\n",
    "\n",
    "response = client.completions.create(\n",
    "    prompt = \"Say this is a test\",\n",
    "    model=\"gpt-3.5-turbo-instruct\",\n",
    ")"
   ]
  },
  {
   "cell_type": "code",
   "execution_count": 29,
   "metadata": {},
   "outputs": [],
   "source": [
    "# examine the response object"
   ]
  },
  {
   "cell_type": "code",
   "execution_count": 66,
   "metadata": {},
   "outputs": [
    {
     "data": {
      "text/plain": [
       "'\\n\\n\"This is a test.\"'"
      ]
     },
     "execution_count": 66,
     "metadata": {},
     "output_type": "execute_result"
    }
   ],
   "source": [
    "# there is only one response\n",
    "# recall that index numbering starts at 0 with Python\n",
    "response.choices[0].text"
   ]
  },
  {
   "cell_type": "code",
   "execution_count": 67,
   "metadata": {},
   "outputs": [
    {
     "name": "stdout",
     "output_type": "stream",
     "text": [
      "\n",
      "\n",
      "\"This is a test.\"\n"
     ]
    }
   ],
   "source": [
    "print( response.choices[0].text )"
   ]
  },
  {
   "cell_type": "markdown",
   "metadata": {},
   "source": [
    "2. __Design a prompt to extract the sentiment from a tweet. Test it on very few tweets from the training dataset. Propose different versions.__"
   ]
  },
  {
   "cell_type": "code",
   "execution_count": 68,
   "metadata": {},
   "outputs": [
    {
     "data": {
      "text/plain": [
       "' hahahah of course  they have such a nasty display picture :`)'"
      ]
     },
     "execution_count": 68,
     "metadata": {},
     "output_type": "execute_result"
    }
   ],
   "source": [
    "tweet = df['text'][1200]\n",
    "tweet"
   ]
  },
  {
   "cell_type": "code",
   "execution_count": 69,
   "metadata": {},
   "outputs": [],
   "source": [
    "# use text concatenation\n",
    "prompt = \"Classify the following text as, positive, negative or neutral:\\n\\n\"\n",
    "prompt += \"Tweet: \"\n",
    "prompt += tweet\n",
    "prompt += \"\\n\\n\"\n",
    "prompt += \"Answer: \""
   ]
  },
  {
   "cell_type": "code",
   "execution_count": 70,
   "metadata": {},
   "outputs": [
    {
     "name": "stdout",
     "output_type": "stream",
     "text": [
      "Classify the following text as, positive, negative or neutral:\n",
      "\n",
      "Tweet:  hahahah of course  they have such a nasty display picture :`)\n",
      "\n",
      "Answer: \n"
     ]
    }
   ],
   "source": [
    "print(prompt)"
   ]
  },
  {
   "cell_type": "code",
   "execution_count": 71,
   "metadata": {},
   "outputs": [
    {
     "name": "stdout",
     "output_type": "stream",
     "text": [
      " Negative\n"
     ]
    }
   ],
   "source": [
    "model = \"gpt-3.5-turbo-instruct\"\n",
    "response = client.completions.create(model=model, prompt=prompt, max_tokens=50)\n",
    "\n",
    "generated_text = response.choices[0].text\n",
    "print(generated_text)"
   ]
  },
  {
   "cell_type": "code",
   "execution_count": 72,
   "metadata": {},
   "outputs": [
    {
     "name": "stdout",
     "output_type": "stream",
     "text": [
      "Classify the following text as, positive, negative or neutral:\n",
      "\n",
      "Tweet:  hahahah of course  they have such a nasty display picture :`)\n",
      "Answer:\n",
      "\n"
     ]
    }
   ],
   "source": [
    "# use string interpolation:\n",
    "prompt = f\"\"\"Classify the following text as, positive, negative or neutral:\n",
    "\n",
    "Tweet: {tweet}\n",
    "Answer:\n",
    "\"\"\"\n",
    "print(prompt)"
   ]
  },
  {
   "cell_type": "markdown",
   "metadata": {},
   "source": [
    "3. __Write a function which takes in: the prompt template, the tweet text and returns the sentiment as an integer.__"
   ]
  },
  {
   "cell_type": "code",
   "execution_count": 120,
   "metadata": {},
   "outputs": [],
   "source": [
    "def sentiment( tweet: str, model = \"gpt-3.5-turbo-instruct\"  )->int:\n",
    "    \"\"\"Compute the sentiment for the tweet.\n",
    "\n",
    "    tweet: string containing the tweet\n",
    "    model: string characterizing the openai model to use\n",
    "    \"\"\"\n",
    "    \n",
    "    # this is inside the function (indented)\n",
    "\n",
    "    # to indent a line Ctrl+] (right) or Ctrl+[\n",
    "    # on mac: Ctrl is Cmd\n",
    "\n",
    "    # build the prompt\n",
    "    prompt = f\"\"\"Classify the following text as, positive, negative or neutral:\n",
    "\n",
    "    Tweet: {tweet}\n",
    "    Answer:\n",
    "    \"\"\"\n",
    "\n",
    "    response = client.completions.create(model=model, prompt=prompt, max_tokens=50)\n",
    "    generated_text = response.choices[0].text\n",
    "    \n",
    "    std_gen_text = generated_text.lower().strip()\n",
    "\n",
    "    if std_gen_text == \"positive\":\n",
    "        return +1\n",
    "    elif std_gen_text==\"negative\": #elseif\n",
    "        return -1\n",
    "    elif std_gen_text==\"neutral\":\n",
    "        return 0\n",
    "    else:\n",
    "        print(\"Unrecognized output\")\n",
    "        return pandas.NA\n",
    "    \n",
    "# this is outside"
   ]
  },
  {
   "cell_type": "code",
   "execution_count": 103,
   "metadata": {},
   "outputs": [
    {
     "data": {
      "text/plain": [
       "\u001b[0;31mSignature:\u001b[0m \u001b[0msentiment\u001b[0m\u001b[0;34m(\u001b[0m\u001b[0mtweet\u001b[0m\u001b[0;34m:\u001b[0m \u001b[0mstr\u001b[0m\u001b[0;34m,\u001b[0m \u001b[0mmodel\u001b[0m\u001b[0;34m=\u001b[0m\u001b[0;34m'gpt-3.5-turbo-instruct'\u001b[0m\u001b[0;34m)\u001b[0m \u001b[0;34m->\u001b[0m \u001b[0mint\u001b[0m\u001b[0;34m\u001b[0m\u001b[0;34m\u001b[0m\u001b[0m\n",
       "\u001b[0;31mDocstring:\u001b[0m\n",
       "Compute the sentiment for the tweet.\n",
       "\n",
       "tweet: string containing the tweet\n",
       "model: string characterizing the openai model to use\n",
       "\u001b[0;31mFile:\u001b[0m      /tmp/ipykernel_8903/666341508.py\n",
       "\u001b[0;31mType:\u001b[0m      function"
      ]
     },
     "metadata": {},
     "output_type": "display_data"
    }
   ],
   "source": [
    "sentiment?"
   ]
  },
  {
   "cell_type": "code",
   "execution_count": 109,
   "metadata": {},
   "outputs": [
    {
     "data": {
      "text/plain": [
       "'positive'"
      ]
     },
     "execution_count": 109,
     "metadata": {},
     "output_type": "execute_result"
    }
   ],
   "source": [
    "sentiment(\"prime number 29 is an incredible number\")"
   ]
  },
  {
   "cell_type": "code",
   "execution_count": 112,
   "metadata": {},
   "outputs": [
    {
     "ename": "Exception",
     "evalue": "Unrecognized output",
     "output_type": "error",
     "traceback": [
      "\u001b[0;31m---------------------------------------------------------------------------\u001b[0m",
      "\u001b[0;31mException\u001b[0m                                 Traceback (most recent call last)",
      "Cell \u001b[0;32mIn[112], line 1\u001b[0m\n\u001b[0;32m----> 1\u001b[0m resp \u001b[38;5;241m=\u001b[39m \u001b[43msentiment\u001b[49m\u001b[43m(\u001b[49m\u001b[38;5;124;43m\"\u001b[39;49m\u001b[38;5;124;43mprime number 29 is an incredible number\u001b[39;49m\u001b[38;5;124;43m\"\u001b[39;49m\u001b[43m,\u001b[49m\u001b[43m \u001b[49m\u001b[43mmodel\u001b[49m\u001b[38;5;241;43m=\u001b[39;49m\u001b[38;5;124;43m\"\u001b[39;49m\u001b[38;5;124;43mdavinci-002\u001b[39;49m\u001b[38;5;124;43m\"\u001b[39;49m\u001b[43m \u001b[49m\u001b[43m)\u001b[49m\n",
      "Cell \u001b[0;32mIn[111], line 32\u001b[0m, in \u001b[0;36msentiment\u001b[0;34m(tweet, model)\u001b[0m\n\u001b[1;32m     30\u001b[0m     \u001b[38;5;28;01mreturn\u001b[39;00m \u001b[38;5;241m0\u001b[39m\n\u001b[1;32m     31\u001b[0m \u001b[38;5;28;01melse\u001b[39;00m:\n\u001b[0;32m---> 32\u001b[0m     \u001b[38;5;28;01mraise\u001b[39;00m \u001b[38;5;167;01mException\u001b[39;00m(\u001b[38;5;124m\"\u001b[39m\u001b[38;5;124mUnrecognized output\u001b[39m\u001b[38;5;124m\"\u001b[39m)\n",
      "\u001b[0;31mException\u001b[0m: Unrecognized output"
     ]
    }
   ],
   "source": [
    "resp = sentiment(\"prime number 29 is an incredible number\", model=\"davinci-002\" )"
   ]
  },
  {
   "cell_type": "code",
   "execution_count": 87,
   "metadata": {},
   "outputs": [
    {
     "name": "stdout",
     "output_type": "stream",
     "text": [
      " Positive: prime number 29 is an incredible number, because...\n",
      "     Neutral: prime number 29 is an incredible number, so...\n",
      "     Negative: prime number 29 is an incredible number, even though...\n",
      "\n",
      "text-mining classification\n",
      "\n",
      "share|im\n"
     ]
    }
   ],
   "source": [
    "print(resp)"
   ]
  },
  {
   "cell_type": "markdown",
   "metadata": {},
   "source": [
    "## Performance shootout"
   ]
  },
  {
   "cell_type": "markdown",
   "metadata": {},
   "source": [
    "1. __Compare the various methods on the test set.__"
   ]
  },
  {
   "cell_type": "code",
   "execution_count": 116,
   "metadata": {},
   "outputs": [],
   "source": [
    "# keep the 50 first elements:\n",
    "df_mini = df_test.iloc[:50,:]\n",
    "\n",
    "# iloc is more adequate for integer indexing"
   ]
  },
  {
   "cell_type": "code",
   "execution_count": 121,
   "metadata": {},
   "outputs": [],
   "source": [
    "values = df_mini['text'].apply(sentiment)"
   ]
  },
  {
   "cell_type": "code",
   "execution_count": 125,
   "metadata": {},
   "outputs": [
    {
     "name": "stderr",
     "output_type": "stream",
     "text": [
      "/tmp/ipykernel_8903/3713138410.py:3: SettingWithCopyWarning: \n",
      "A value is trying to be set on a copy of a slice from a DataFrame.\n",
      "Try using .loc[row_indexer,col_indexer] = value instead\n",
      "\n",
      "See the caveats in the documentation: https://pandas.pydata.org/pandas-docs/stable/user_guide/indexing.html#returning-a-view-versus-a-copy\n",
      "  df_mini[\"predicted_sentiment\"] = values\n"
     ]
    }
   ],
   "source": [
    "# compare accuracy against labels\n",
    "# add to df_mini\n",
    "df_mini[\"predicted_sentiment\"] = values"
   ]
  },
  {
   "cell_type": "code",
   "execution_count": 128,
   "metadata": {},
   "outputs": [
    {
     "name": "stderr",
     "output_type": "stream",
     "text": [
      "/tmp/ipykernel_8903/2987017452.py:9: SettingWithCopyWarning: \n",
      "A value is trying to be set on a copy of a slice from a DataFrame.\n",
      "Try using .loc[row_indexer,col_indexer] = value instead\n",
      "\n",
      "See the caveats in the documentation: https://pandas.pydata.org/pandas-docs/stable/user_guide/indexing.html#returning-a-view-versus-a-copy\n",
      "  df_mini['numerical_sentiment'] = df_mini['sentiment'].apply(fun)\n"
     ]
    }
   ],
   "source": [
    "# compute numerical values for the labels\n",
    "def fun(val):\n",
    "    if val == \"positive\":\n",
    "        return +1\n",
    "    elif val==\"negative\": #elseif\n",
    "        return -1\n",
    "    elif val==\"neutral\":\n",
    "        return 0\n",
    "df_mini['numerical_sentiment'] = df_mini['sentiment'].apply(fun)"
   ]
  },
  {
   "cell_type": "code",
   "execution_count": 129,
   "metadata": {},
   "outputs": [
    {
     "data": {
      "text/html": [
       "<div>\n",
       "<style scoped>\n",
       "    .dataframe tbody tr th:only-of-type {\n",
       "        vertical-align: middle;\n",
       "    }\n",
       "\n",
       "    .dataframe tbody tr th {\n",
       "        vertical-align: top;\n",
       "    }\n",
       "\n",
       "    .dataframe thead th {\n",
       "        text-align: right;\n",
       "    }\n",
       "</style>\n",
       "<table border=\"1\" class=\"dataframe\">\n",
       "  <thead>\n",
       "    <tr style=\"text-align: right;\">\n",
       "      <th></th>\n",
       "      <th>textID</th>\n",
       "      <th>text</th>\n",
       "      <th>selected_text</th>\n",
       "      <th>sentiment</th>\n",
       "      <th>predicted_sentiment</th>\n",
       "      <th>numerical_sentiment</th>\n",
       "    </tr>\n",
       "  </thead>\n",
       "  <tbody>\n",
       "    <tr>\n",
       "      <th>2747</th>\n",
       "      <td>331b42de7d</td>\n",
       "      <td>_Mitchell i`ve never been to the opera before....</td>\n",
       "      <td>i`ve never been to the opera before...don`t th...</td>\n",
       "      <td>neutral</td>\n",
       "      <td>0</td>\n",
       "      <td>0</td>\n",
       "    </tr>\n",
       "    <tr>\n",
       "      <th>3885</th>\n",
       "      <td>22ecd73521</td>\n",
       "      <td>So apparently i left my front door wide open b...</td>\n",
       "      <td>Love</td>\n",
       "      <td>positive</td>\n",
       "      <td>0</td>\n",
       "      <td>1</td>\n",
       "    </tr>\n",
       "    <tr>\n",
       "      <th>20348</th>\n",
       "      <td>531fe402e7</td>\n",
       "      <td>Just started raining in earnest... guess golf ...</td>\n",
       "      <td>Just started raining in earnest... guess golf ...</td>\n",
       "      <td>neutral</td>\n",
       "      <td>-1</td>\n",
       "      <td>0</td>\n",
       "    </tr>\n",
       "    <tr>\n",
       "      <th>3591</th>\n",
       "      <td>bfdad27a0d</td>\n",
       "      <td>Loved the comment on flashcads! I`m old schoo...</td>\n",
       "      <td>Loved</td>\n",
       "      <td>positive</td>\n",
       "      <td>1</td>\n",
       "      <td>1</td>\n",
       "    </tr>\n",
       "    <tr>\n",
       "      <th>269</th>\n",
       "      <td>de8c4c410d</td>\n",
       "      <td>Hell Yeah!</td>\n",
       "      <td>Hell Yeah!</td>\n",
       "      <td>neutral</td>\n",
       "      <td>1</td>\n",
       "      <td>0</td>\n",
       "    </tr>\n",
       "    <tr>\n",
       "      <th>18610</th>\n",
       "      <td>43cc688b89</td>\n",
       "      <td>might be seeing my god mothers little boy in a...</td>\n",
       "      <td>cute</td>\n",
       "      <td>positive</td>\n",
       "      <td>1</td>\n",
       "      <td>1</td>\n",
       "    </tr>\n",
       "    <tr>\n",
       "      <th>26279</th>\n",
       "      <td>79c0162c77</td>\n",
       "      <td>useless tweet! LOL jk yay!!! You`re coming tm...</td>\n",
       "      <td>useless</td>\n",
       "      <td>negative</td>\n",
       "      <td>0</td>\n",
       "      <td>-1</td>\n",
       "    </tr>\n",
       "    <tr>\n",
       "      <th>7443</th>\n",
       "      <td>e944e54713</td>\n",
       "      <td>Just got home, doing art all day.. i want to b...</td>\n",
       "      <td>Just got home, doing art all day.. i want to b...</td>\n",
       "      <td>neutral</td>\n",
       "      <td>0</td>\n",
       "      <td>0</td>\n",
       "    </tr>\n",
       "    <tr>\n",
       "      <th>26757</th>\n",
       "      <td>eb6f587edb</td>\n",
       "      <td>Can`t I just be a stay at home mom already</td>\n",
       "      <td>Can`t I just be a stay at home mom already</td>\n",
       "      <td>neutral</td>\n",
       "      <td>0</td>\n",
       "      <td>0</td>\n",
       "    </tr>\n",
       "    <tr>\n",
       "      <th>12591</th>\n",
       "      <td>a590123cd9</td>\n",
       "      <td>LoL!!  I still would have got a look at his f...</td>\n",
       "      <td>LoL!!  I still would have got a look at his fa...</td>\n",
       "      <td>neutral</td>\n",
       "      <td>0</td>\n",
       "      <td>0</td>\n",
       "    </tr>\n",
       "    <tr>\n",
       "      <th>2931</th>\n",
       "      <td>b1e3728694</td>\n",
       "      <td>I hope when you`re calling this the shitshow...</td>\n",
       "      <td>e when you`re calling this the shitshow you me...</td>\n",
       "      <td>neutral</td>\n",
       "      <td>0</td>\n",
       "      <td>0</td>\n",
       "    </tr>\n",
       "    <tr>\n",
       "      <th>841</th>\n",
       "      <td>81adf60881</td>\n",
       "      <td>I`ve read good things bout it. Just not feeli...</td>\n",
       "      <td>good</td>\n",
       "      <td>positive</td>\n",
       "      <td>0</td>\n",
       "      <td>1</td>\n",
       "    </tr>\n",
       "    <tr>\n",
       "      <th>15253</th>\n",
       "      <td>ee5b92dd36</td>\n",
       "      <td>TWEEEEEET! good morning twitterland! going to ...</td>\n",
       "      <td>good mo</td>\n",
       "      <td>positive</td>\n",
       "      <td>0</td>\n",
       "      <td>1</td>\n",
       "    </tr>\n",
       "    <tr>\n",
       "      <th>13587</th>\n",
       "      <td>e62c88c16c</td>\n",
       "      <td>busy exam week coming up! always look on the b...</td>\n",
       "      <td>always look on the bright side of life</td>\n",
       "      <td>positive</td>\n",
       "      <td>1</td>\n",
       "      <td>1</td>\n",
       "    </tr>\n",
       "    <tr>\n",
       "      <th>20076</th>\n",
       "      <td>04795b9c4a</td>\n",
       "      <td>the classes with my students are over  gonna m...</td>\n",
       "      <td>gonna miss them...</td>\n",
       "      <td>negative</td>\n",
       "      <td>1</td>\n",
       "      <td>-1</td>\n",
       "    </tr>\n",
       "    <tr>\n",
       "      <th>12305</th>\n",
       "      <td>52618a6457</td>\n",
       "      <td>I know.  I have such guilt associated with pi...</td>\n",
       "      <td>h guilt</td>\n",
       "      <td>negative</td>\n",
       "      <td>-1</td>\n",
       "      <td>-1</td>\n",
       "    </tr>\n",
       "    <tr>\n",
       "      <th>23178</th>\n",
       "      <td>e4e71486e3</td>\n",
       "      <td>If anyone needs help with images, let me know ...</td>\n",
       "      <td>i will convo you</td>\n",
       "      <td>positive</td>\n",
       "      <td>0</td>\n",
       "      <td>1</td>\n",
       "    </tr>\n",
       "    <tr>\n",
       "      <th>18086</th>\n",
       "      <td>4b0a1d060d</td>\n",
       "      <td>..dat dude look crazy w/ dat hair on his face ...</td>\n",
       "      <td>.these dudes are clowns</td>\n",
       "      <td>negative</td>\n",
       "      <td>-1</td>\n",
       "      <td>-1</td>\n",
       "    </tr>\n",
       "    <tr>\n",
       "      <th>23410</th>\n",
       "      <td>e4cb8a6252</td>\n",
       "      <td>Last Heroes ep until Sept  Sick &amp; drugged for ...</td>\n",
       "      <td>lacking</td>\n",
       "      <td>negative</td>\n",
       "      <td>-1</td>\n",
       "      <td>-1</td>\n",
       "    </tr>\n",
       "    <tr>\n",
       "      <th>14581</th>\n",
       "      <td>a838d1a793</td>\n",
       "      <td>am sitting in the library with eyes half close...</td>\n",
       "      <td>am sitting in the library with eyes half close...</td>\n",
       "      <td>neutral</td>\n",
       "      <td>-1</td>\n",
       "      <td>0</td>\n",
       "    </tr>\n",
       "    <tr>\n",
       "      <th>17564</th>\n",
       "      <td>588e531efe</td>\n",
       "      <td>Moooorning! Fancy a coffee?</td>\n",
       "      <td>Moooorning! Fancy a coffee?</td>\n",
       "      <td>neutral</td>\n",
       "      <td>0</td>\n",
       "      <td>0</td>\n",
       "    </tr>\n",
       "    <tr>\n",
       "      <th>14747</th>\n",
       "      <td>344467bdaf</td>\n",
       "      <td>ay buti pa kayo!!!! uy thank you!!</td>\n",
       "      <td>y thank you!!</td>\n",
       "      <td>positive</td>\n",
       "      <td>1</td>\n",
       "      <td>1</td>\n",
       "    </tr>\n",
       "    <tr>\n",
       "      <th>21466</th>\n",
       "      <td>4f5cb8c34f</td>\n",
       "      <td>All I want to do is sit back &amp; relax for a lit...</td>\n",
       "      <td>All I want to do is sit back &amp; relax for a lit...</td>\n",
       "      <td>neutral</td>\n",
       "      <td>-1</td>\n",
       "      <td>0</td>\n",
       "    </tr>\n",
       "    <tr>\n",
       "      <th>8975</th>\n",
       "      <td>bd042c2954</td>\n",
       "      <td>I saw an all red Audi on the highway. I sped ...</td>\n",
       "      <td>My loss</td>\n",
       "      <td>negative</td>\n",
       "      <td>-1</td>\n",
       "      <td>-1</td>\n",
       "    </tr>\n",
       "    <tr>\n",
       "      <th>19747</th>\n",
       "      <td>29506f993d</td>\n",
       "      <td>Yeah, `Age of Aquarius` IS a pretty scary song</td>\n",
       "      <td>scary</td>\n",
       "      <td>negative</td>\n",
       "      <td>-1</td>\n",
       "      <td>-1</td>\n",
       "    </tr>\n",
       "    <tr>\n",
       "      <th>18970</th>\n",
       "      <td>3bd10905ed</td>\n",
       "      <td>Ugh, i hate waiting in airports. I couldn`t fi...</td>\n",
       "      <td>i hate</td>\n",
       "      <td>negative</td>\n",
       "      <td>-1</td>\n",
       "      <td>-1</td>\n",
       "    </tr>\n",
       "    <tr>\n",
       "      <th>22914</th>\n",
       "      <td>35bd63a569</td>\n",
       "      <td>i take it you`re not a fan</td>\n",
       "      <td>i take it you`re not a fan</td>\n",
       "      <td>negative</td>\n",
       "      <td>-1</td>\n",
       "      <td>-1</td>\n",
       "    </tr>\n",
       "    <tr>\n",
       "      <th>455</th>\n",
       "      <td>754ebd84b4</td>\n",
       "      <td>http://twitpic.com/67qv3 - Me at Forever 21  E...</td>\n",
       "      <td>Me at Forever 21  Ethan couldn`t be there</td>\n",
       "      <td>negative</td>\n",
       "      <td>0</td>\n",
       "      <td>-1</td>\n",
       "    </tr>\n",
       "    <tr>\n",
       "      <th>1077</th>\n",
       "      <td>3d5c1ed21b</td>\n",
       "      <td>Up is out?  I didn`t get the memo   It looks ...</td>\n",
       "      <td>o   It looks amazi</td>\n",
       "      <td>positive</td>\n",
       "      <td>0</td>\n",
       "      <td>1</td>\n",
       "    </tr>\n",
       "    <tr>\n",
       "      <th>11170</th>\n",
       "      <td>45b75eb618</td>\n",
       "      <td>sunniest week for ages....and exams</td>\n",
       "      <td>sunniest week for ages....and exams</td>\n",
       "      <td>neutral</td>\n",
       "      <td>1</td>\n",
       "      <td>0</td>\n",
       "    </tr>\n",
       "    <tr>\n",
       "      <th>7434</th>\n",
       "      <td>e2e0d8b057</td>\n",
       "      <td>I have class tomorrow and tomorrow is Saturday...</td>\n",
       "      <td>hate</td>\n",
       "      <td>negative</td>\n",
       "      <td>-1</td>\n",
       "      <td>-1</td>\n",
       "    </tr>\n",
       "    <tr>\n",
       "      <th>6188</th>\n",
       "      <td>5c5522b7b7</td>\n",
       "      <td>AND, We have your fabulous interracial ****! ...</td>\n",
       "      <td>AND, We have your fabulous interracial ****!  ...</td>\n",
       "      <td>positive</td>\n",
       "      <td>1</td>\n",
       "      <td>1</td>\n",
       "    </tr>\n",
       "    <tr>\n",
       "      <th>405</th>\n",
       "      <td>bd0fa6cebd</td>\n",
       "      <td>the 'no pants' idea could be the new attempt ...</td>\n",
       "      <td>the 'no pants' idea could be the new attempt w...</td>\n",
       "      <td>neutral</td>\n",
       "      <td>0</td>\n",
       "      <td>0</td>\n",
       "    </tr>\n",
       "    <tr>\n",
       "      <th>13386</th>\n",
       "      <td>9d7b65be19</td>\n",
       "      <td>Haha. I just won a $1000 bet. I settled for $1...</td>\n",
       "      <td>won</td>\n",
       "      <td>positive</td>\n",
       "      <td>1</td>\n",
       "      <td>1</td>\n",
       "    </tr>\n",
       "    <tr>\n",
       "      <th>9674</th>\n",
       "      <td>0a87bc8dfd</td>\n",
       "      <td>The reason why I can`t find the latest Arena m...</td>\n",
       "      <td>recession.</td>\n",
       "      <td>negative</td>\n",
       "      <td>-1</td>\n",
       "      <td>-1</td>\n",
       "    </tr>\n",
       "    <tr>\n",
       "      <th>16411</th>\n",
       "      <td>7d1e81e0b9</td>\n",
       "      <td>I know we need it but I`m not a fan of daily ...</td>\n",
       "      <td>enjoy</td>\n",
       "      <td>positive</td>\n",
       "      <td>-1</td>\n",
       "      <td>1</td>\n",
       "    </tr>\n",
       "    <tr>\n",
       "      <th>15736</th>\n",
       "      <td>58015c3988</td>\n",
       "      <td>I know what you mean  rain sucks...</td>\n",
       "      <td>n sucks</td>\n",
       "      <td>negative</td>\n",
       "      <td>-1</td>\n",
       "      <td>-1</td>\n",
       "    </tr>\n",
       "    <tr>\n",
       "      <th>26158</th>\n",
       "      <td>7949730012</td>\n",
       "      <td>why weren`t we invited?</td>\n",
       "      <td>why weren`t we invited?</td>\n",
       "      <td>neutral</td>\n",
       "      <td>-1</td>\n",
       "      <td>0</td>\n",
       "    </tr>\n",
       "    <tr>\n",
       "      <th>1391</th>\n",
       "      <td>743c5b85ca</td>\n",
       "      <td>watching Bones with Naty. Have made her a fan!...</td>\n",
       "      <td>fan!</td>\n",
       "      <td>positive</td>\n",
       "      <td>1</td>\n",
       "      <td>1</td>\n",
       "    </tr>\n",
       "    <tr>\n",
       "      <th>4176</th>\n",
       "      <td>a27a31f5b8</td>\n",
       "      <td>- well i greatly appreciate your comment.  Th...</td>\n",
       "      <td>greatly appreciate</td>\n",
       "      <td>positive</td>\n",
       "      <td>1</td>\n",
       "      <td>1</td>\n",
       "    </tr>\n",
       "    <tr>\n",
       "      <th>26841</th>\n",
       "      <td>8d8b6e78ae</td>\n",
       "      <td>Some idiot just crashed into me on his bike.  ...</td>\n",
       "      <td>crashed</td>\n",
       "      <td>negative</td>\n",
       "      <td>-1</td>\n",
       "      <td>-1</td>\n",
       "    </tr>\n",
       "    <tr>\n",
       "      <th>15187</th>\n",
       "      <td>e47b0e317c</td>\n",
       "      <td>damnit i didn`t  but neither did you so win!</td>\n",
       "      <td>damnit i didn`t  but neither did you so win!</td>\n",
       "      <td>neutral</td>\n",
       "      <td>0</td>\n",
       "      <td>0</td>\n",
       "    </tr>\n",
       "    <tr>\n",
       "      <th>20692</th>\n",
       "      <td>b36d8acbd1</td>\n",
       "      <td>Yes, you should write an article.</td>\n",
       "      <td>Yes, you should write an article.</td>\n",
       "      <td>neutral</td>\n",
       "      <td>0</td>\n",
       "      <td>0</td>\n",
       "    </tr>\n",
       "    <tr>\n",
       "      <th>20657</th>\n",
       "      <td>60c30e4bd8</td>\n",
       "      <td>Sometimes all it takes to solve our problems i...</td>\n",
       "      <td>Hope today is beautiful for you</td>\n",
       "      <td>positive</td>\n",
       "      <td>1</td>\n",
       "      <td>1</td>\n",
       "    </tr>\n",
       "    <tr>\n",
       "      <th>12794</th>\n",
       "      <td>112e8afc05</td>\n",
       "      <td>r   that squeeze bacon looks like poop</td>\n",
       "      <td>r   that squeeze bacon looks like poop</td>\n",
       "      <td>neutral</td>\n",
       "      <td>-1</td>\n",
       "      <td>0</td>\n",
       "    </tr>\n",
       "    <tr>\n",
       "      <th>8793</th>\n",
       "      <td>51f98e5b08</td>\n",
       "      <td>up and at work im ina good mood</td>\n",
       "      <td>good</td>\n",
       "      <td>positive</td>\n",
       "      <td>1</td>\n",
       "      <td>1</td>\n",
       "    </tr>\n",
       "    <tr>\n",
       "      <th>4670</th>\n",
       "      <td>b1e9db3db7</td>\n",
       "      <td>good day to all of you!! Another lindy day tod...</td>\n",
       "      <td>good</td>\n",
       "      <td>positive</td>\n",
       "      <td>1</td>\n",
       "      <td>1</td>\n",
       "    </tr>\n",
       "    <tr>\n",
       "      <th>14864</th>\n",
       "      <td>5a0e0c34b8</td>\n",
       "      <td>is super happy at the new interest rate.  whoo...</td>\n",
       "      <td>super happy</td>\n",
       "      <td>positive</td>\n",
       "      <td>1</td>\n",
       "      <td>1</td>\n",
       "    </tr>\n",
       "    <tr>\n",
       "      <th>22529</th>\n",
       "      <td>9389b2e59d</td>\n",
       "      <td>LOL. dood, i love you and miss you.</td>\n",
       "      <td>i love you and miss you.</td>\n",
       "      <td>neutral</td>\n",
       "      <td>1</td>\n",
       "      <td>0</td>\n",
       "    </tr>\n",
       "    <tr>\n",
       "      <th>4227</th>\n",
       "      <td>dfa0d5ca14</td>\n",
       "      <td>I just dyededed my hair</td>\n",
       "      <td>I just dyededed my hair</td>\n",
       "      <td>neutral</td>\n",
       "      <td>0</td>\n",
       "      <td>0</td>\n",
       "    </tr>\n",
       "  </tbody>\n",
       "</table>\n",
       "</div>"
      ],
      "text/plain": [
       "           textID                                               text  \\\n",
       "2747   331b42de7d  _Mitchell i`ve never been to the opera before....   \n",
       "3885   22ecd73521  So apparently i left my front door wide open b...   \n",
       "20348  531fe402e7  Just started raining in earnest... guess golf ...   \n",
       "3591   bfdad27a0d   Loved the comment on flashcads! I`m old schoo...   \n",
       "269    de8c4c410d                                         Hell Yeah!   \n",
       "18610  43cc688b89  might be seeing my god mothers little boy in a...   \n",
       "26279  79c0162c77   useless tweet! LOL jk yay!!! You`re coming tm...   \n",
       "7443   e944e54713  Just got home, doing art all day.. i want to b...   \n",
       "26757  eb6f587edb         Can`t I just be a stay at home mom already   \n",
       "12591  a590123cd9   LoL!!  I still would have got a look at his f...   \n",
       "2931   b1e3728694    I hope when you`re calling this the shitshow...   \n",
       "841    81adf60881   I`ve read good things bout it. Just not feeli...   \n",
       "15253  ee5b92dd36  TWEEEEEET! good morning twitterland! going to ...   \n",
       "13587  e62c88c16c  busy exam week coming up! always look on the b...   \n",
       "20076  04795b9c4a  the classes with my students are over  gonna m...   \n",
       "12305  52618a6457   I know.  I have such guilt associated with pi...   \n",
       "23178  e4e71486e3  If anyone needs help with images, let me know ...   \n",
       "18086  4b0a1d060d  ..dat dude look crazy w/ dat hair on his face ...   \n",
       "23410  e4cb8a6252  Last Heroes ep until Sept  Sick & drugged for ...   \n",
       "14581  a838d1a793  am sitting in the library with eyes half close...   \n",
       "17564  588e531efe                        Moooorning! Fancy a coffee?   \n",
       "14747  344467bdaf                 ay buti pa kayo!!!! uy thank you!!   \n",
       "21466  4f5cb8c34f  All I want to do is sit back & relax for a lit...   \n",
       "8975   bd042c2954   I saw an all red Audi on the highway. I sped ...   \n",
       "19747  29506f993d     Yeah, `Age of Aquarius` IS a pretty scary song   \n",
       "18970  3bd10905ed  Ugh, i hate waiting in airports. I couldn`t fi...   \n",
       "22914  35bd63a569                         i take it you`re not a fan   \n",
       "455    754ebd84b4  http://twitpic.com/67qv3 - Me at Forever 21  E...   \n",
       "1077   3d5c1ed21b   Up is out?  I didn`t get the memo   It looks ...   \n",
       "11170  45b75eb618                sunniest week for ages....and exams   \n",
       "7434   e2e0d8b057  I have class tomorrow and tomorrow is Saturday...   \n",
       "6188   5c5522b7b7   AND, We have your fabulous interracial ****! ...   \n",
       "405    bd0fa6cebd   the 'no pants' idea could be the new attempt ...   \n",
       "13386  9d7b65be19  Haha. I just won a $1000 bet. I settled for $1...   \n",
       "9674   0a87bc8dfd  The reason why I can`t find the latest Arena m...   \n",
       "16411  7d1e81e0b9   I know we need it but I`m not a fan of daily ...   \n",
       "15736  58015c3988                I know what you mean  rain sucks...   \n",
       "26158  7949730012                            why weren`t we invited?   \n",
       "1391   743c5b85ca  watching Bones with Naty. Have made her a fan!...   \n",
       "4176   a27a31f5b8   - well i greatly appreciate your comment.  Th...   \n",
       "26841  8d8b6e78ae  Some idiot just crashed into me on his bike.  ...   \n",
       "15187  e47b0e317c       damnit i didn`t  but neither did you so win!   \n",
       "20692  b36d8acbd1                  Yes, you should write an article.   \n",
       "20657  60c30e4bd8  Sometimes all it takes to solve our problems i...   \n",
       "12794  112e8afc05             r   that squeeze bacon looks like poop   \n",
       "8793   51f98e5b08                    up and at work im ina good mood   \n",
       "4670   b1e9db3db7  good day to all of you!! Another lindy day tod...   \n",
       "14864  5a0e0c34b8  is super happy at the new interest rate.  whoo...   \n",
       "22529  9389b2e59d                LOL. dood, i love you and miss you.   \n",
       "4227   dfa0d5ca14                            I just dyededed my hair   \n",
       "\n",
       "                                           selected_text sentiment  \\\n",
       "2747   i`ve never been to the opera before...don`t th...   neutral   \n",
       "3885                                                Love  positive   \n",
       "20348  Just started raining in earnest... guess golf ...   neutral   \n",
       "3591                                               Loved  positive   \n",
       "269                                           Hell Yeah!   neutral   \n",
       "18610                                               cute  positive   \n",
       "26279                                            useless  negative   \n",
       "7443   Just got home, doing art all day.. i want to b...   neutral   \n",
       "26757         Can`t I just be a stay at home mom already   neutral   \n",
       "12591  LoL!!  I still would have got a look at his fa...   neutral   \n",
       "2931   e when you`re calling this the shitshow you me...   neutral   \n",
       "841                                                 good  positive   \n",
       "15253                                            good mo  positive   \n",
       "13587             always look on the bright side of life  positive   \n",
       "20076                                 gonna miss them...  negative   \n",
       "12305                                            h guilt  negative   \n",
       "23178                                   i will convo you  positive   \n",
       "18086                            .these dudes are clowns  negative   \n",
       "23410                                            lacking  negative   \n",
       "14581  am sitting in the library with eyes half close...   neutral   \n",
       "17564                        Moooorning! Fancy a coffee?   neutral   \n",
       "14747                                      y thank you!!  positive   \n",
       "21466  All I want to do is sit back & relax for a lit...   neutral   \n",
       "8975                                             My loss  negative   \n",
       "19747                                              scary  negative   \n",
       "18970                                             i hate  negative   \n",
       "22914                         i take it you`re not a fan  negative   \n",
       "455            Me at Forever 21  Ethan couldn`t be there  negative   \n",
       "1077                                  o   It looks amazi  positive   \n",
       "11170                sunniest week for ages....and exams   neutral   \n",
       "7434                                                hate  negative   \n",
       "6188   AND, We have your fabulous interracial ****!  ...  positive   \n",
       "405    the 'no pants' idea could be the new attempt w...   neutral   \n",
       "13386                                                won  positive   \n",
       "9674                                          recession.  negative   \n",
       "16411                                              enjoy  positive   \n",
       "15736                                            n sucks  negative   \n",
       "26158                            why weren`t we invited?   neutral   \n",
       "1391                                                fan!  positive   \n",
       "4176                                  greatly appreciate  positive   \n",
       "26841                                            crashed  negative   \n",
       "15187       damnit i didn`t  but neither did you so win!   neutral   \n",
       "20692                  Yes, you should write an article.   neutral   \n",
       "20657                    Hope today is beautiful for you  positive   \n",
       "12794             r   that squeeze bacon looks like poop   neutral   \n",
       "8793                                                good  positive   \n",
       "4670                                                good  positive   \n",
       "14864                                        super happy  positive   \n",
       "22529                           i love you and miss you.   neutral   \n",
       "4227                             I just dyededed my hair   neutral   \n",
       "\n",
       "       predicted_sentiment  numerical_sentiment  \n",
       "2747                     0                    0  \n",
       "3885                     0                    1  \n",
       "20348                   -1                    0  \n",
       "3591                     1                    1  \n",
       "269                      1                    0  \n",
       "18610                    1                    1  \n",
       "26279                    0                   -1  \n",
       "7443                     0                    0  \n",
       "26757                    0                    0  \n",
       "12591                    0                    0  \n",
       "2931                     0                    0  \n",
       "841                      0                    1  \n",
       "15253                    0                    1  \n",
       "13587                    1                    1  \n",
       "20076                    1                   -1  \n",
       "12305                   -1                   -1  \n",
       "23178                    0                    1  \n",
       "18086                   -1                   -1  \n",
       "23410                   -1                   -1  \n",
       "14581                   -1                    0  \n",
       "17564                    0                    0  \n",
       "14747                    1                    1  \n",
       "21466                   -1                    0  \n",
       "8975                    -1                   -1  \n",
       "19747                   -1                   -1  \n",
       "18970                   -1                   -1  \n",
       "22914                   -1                   -1  \n",
       "455                      0                   -1  \n",
       "1077                     0                    1  \n",
       "11170                    1                    0  \n",
       "7434                    -1                   -1  \n",
       "6188                     1                    1  \n",
       "405                      0                    0  \n",
       "13386                    1                    1  \n",
       "9674                    -1                   -1  \n",
       "16411                   -1                    1  \n",
       "15736                   -1                   -1  \n",
       "26158                   -1                    0  \n",
       "1391                     1                    1  \n",
       "4176                     1                    1  \n",
       "26841                   -1                   -1  \n",
       "15187                    0                    0  \n",
       "20692                    0                    0  \n",
       "20657                    1                    1  \n",
       "12794                   -1                    0  \n",
       "8793                     1                    1  \n",
       "4670                     1                    1  \n",
       "14864                    1                    1  \n",
       "22529                    1                    0  \n",
       "4227                     0                    0  "
      ]
     },
     "execution_count": 129,
     "metadata": {},
     "output_type": "execute_result"
    }
   ],
   "source": [
    "df_mini"
   ]
  },
  {
   "cell_type": "code",
   "execution_count": 131,
   "metadata": {},
   "outputs": [],
   "source": [
    "# number of true values:\n",
    "TV = sum(df_mini['predicted_sentiment']==df_mini[\"numerical_sentiment\"])"
   ]
  },
  {
   "cell_type": "code",
   "execution_count": 133,
   "metadata": {},
   "outputs": [],
   "source": [
    "FV = sum(df_mini['predicted_sentiment']!=df_mini[\"numerical_sentiment\"])"
   ]
  },
  {
   "cell_type": "code",
   "execution_count": 135,
   "metadata": {},
   "outputs": [
    {
     "data": {
      "text/plain": [
       "0.66"
      ]
     },
     "execution_count": 135,
     "metadata": {},
     "output_type": "execute_result"
    }
   ],
   "source": [
    "# accuracy rrate:\n",
    "\n",
    "TV/(TV+FV)"
   ]
  },
  {
   "cell_type": "code",
   "execution_count": null,
   "metadata": {},
   "outputs": [],
   "source": [
    "# confusion matrix\n",
    "# ..."
   ]
  },
  {
   "cell_type": "code",
   "execution_count": 136,
   "metadata": {},
   "outputs": [
    {
     "data": {
      "text/html": [
       "<div>\n",
       "<style scoped>\n",
       "    .dataframe tbody tr th:only-of-type {\n",
       "        vertical-align: middle;\n",
       "    }\n",
       "\n",
       "    .dataframe tbody tr th {\n",
       "        vertical-align: top;\n",
       "    }\n",
       "\n",
       "    .dataframe thead th {\n",
       "        text-align: right;\n",
       "    }\n",
       "</style>\n",
       "<table border=\"1\" class=\"dataframe\">\n",
       "  <thead>\n",
       "    <tr style=\"text-align: right;\">\n",
       "      <th></th>\n",
       "      <th>textID</th>\n",
       "      <th>text</th>\n",
       "      <th>selected_text</th>\n",
       "      <th>sentiment</th>\n",
       "      <th>predicted_sentiment</th>\n",
       "      <th>numerical_sentiment</th>\n",
       "    </tr>\n",
       "  </thead>\n",
       "  <tbody>\n",
       "    <tr>\n",
       "      <th>3885</th>\n",
       "      <td>22ecd73521</td>\n",
       "      <td>So apparently i left my front door wide open b...</td>\n",
       "      <td>Love</td>\n",
       "      <td>positive</td>\n",
       "      <td>0</td>\n",
       "      <td>1</td>\n",
       "    </tr>\n",
       "    <tr>\n",
       "      <th>20348</th>\n",
       "      <td>531fe402e7</td>\n",
       "      <td>Just started raining in earnest... guess golf ...</td>\n",
       "      <td>Just started raining in earnest... guess golf ...</td>\n",
       "      <td>neutral</td>\n",
       "      <td>-1</td>\n",
       "      <td>0</td>\n",
       "    </tr>\n",
       "    <tr>\n",
       "      <th>269</th>\n",
       "      <td>de8c4c410d</td>\n",
       "      <td>Hell Yeah!</td>\n",
       "      <td>Hell Yeah!</td>\n",
       "      <td>neutral</td>\n",
       "      <td>1</td>\n",
       "      <td>0</td>\n",
       "    </tr>\n",
       "    <tr>\n",
       "      <th>26279</th>\n",
       "      <td>79c0162c77</td>\n",
       "      <td>useless tweet! LOL jk yay!!! You`re coming tm...</td>\n",
       "      <td>useless</td>\n",
       "      <td>negative</td>\n",
       "      <td>0</td>\n",
       "      <td>-1</td>\n",
       "    </tr>\n",
       "    <tr>\n",
       "      <th>841</th>\n",
       "      <td>81adf60881</td>\n",
       "      <td>I`ve read good things bout it. Just not feeli...</td>\n",
       "      <td>good</td>\n",
       "      <td>positive</td>\n",
       "      <td>0</td>\n",
       "      <td>1</td>\n",
       "    </tr>\n",
       "    <tr>\n",
       "      <th>15253</th>\n",
       "      <td>ee5b92dd36</td>\n",
       "      <td>TWEEEEEET! good morning twitterland! going to ...</td>\n",
       "      <td>good mo</td>\n",
       "      <td>positive</td>\n",
       "      <td>0</td>\n",
       "      <td>1</td>\n",
       "    </tr>\n",
       "    <tr>\n",
       "      <th>20076</th>\n",
       "      <td>04795b9c4a</td>\n",
       "      <td>the classes with my students are over  gonna m...</td>\n",
       "      <td>gonna miss them...</td>\n",
       "      <td>negative</td>\n",
       "      <td>1</td>\n",
       "      <td>-1</td>\n",
       "    </tr>\n",
       "    <tr>\n",
       "      <th>23178</th>\n",
       "      <td>e4e71486e3</td>\n",
       "      <td>If anyone needs help with images, let me know ...</td>\n",
       "      <td>i will convo you</td>\n",
       "      <td>positive</td>\n",
       "      <td>0</td>\n",
       "      <td>1</td>\n",
       "    </tr>\n",
       "    <tr>\n",
       "      <th>14581</th>\n",
       "      <td>a838d1a793</td>\n",
       "      <td>am sitting in the library with eyes half close...</td>\n",
       "      <td>am sitting in the library with eyes half close...</td>\n",
       "      <td>neutral</td>\n",
       "      <td>-1</td>\n",
       "      <td>0</td>\n",
       "    </tr>\n",
       "    <tr>\n",
       "      <th>21466</th>\n",
       "      <td>4f5cb8c34f</td>\n",
       "      <td>All I want to do is sit back &amp; relax for a lit...</td>\n",
       "      <td>All I want to do is sit back &amp; relax for a lit...</td>\n",
       "      <td>neutral</td>\n",
       "      <td>-1</td>\n",
       "      <td>0</td>\n",
       "    </tr>\n",
       "    <tr>\n",
       "      <th>455</th>\n",
       "      <td>754ebd84b4</td>\n",
       "      <td>http://twitpic.com/67qv3 - Me at Forever 21  E...</td>\n",
       "      <td>Me at Forever 21  Ethan couldn`t be there</td>\n",
       "      <td>negative</td>\n",
       "      <td>0</td>\n",
       "      <td>-1</td>\n",
       "    </tr>\n",
       "    <tr>\n",
       "      <th>1077</th>\n",
       "      <td>3d5c1ed21b</td>\n",
       "      <td>Up is out?  I didn`t get the memo   It looks ...</td>\n",
       "      <td>o   It looks amazi</td>\n",
       "      <td>positive</td>\n",
       "      <td>0</td>\n",
       "      <td>1</td>\n",
       "    </tr>\n",
       "    <tr>\n",
       "      <th>11170</th>\n",
       "      <td>45b75eb618</td>\n",
       "      <td>sunniest week for ages....and exams</td>\n",
       "      <td>sunniest week for ages....and exams</td>\n",
       "      <td>neutral</td>\n",
       "      <td>1</td>\n",
       "      <td>0</td>\n",
       "    </tr>\n",
       "    <tr>\n",
       "      <th>16411</th>\n",
       "      <td>7d1e81e0b9</td>\n",
       "      <td>I know we need it but I`m not a fan of daily ...</td>\n",
       "      <td>enjoy</td>\n",
       "      <td>positive</td>\n",
       "      <td>-1</td>\n",
       "      <td>1</td>\n",
       "    </tr>\n",
       "    <tr>\n",
       "      <th>26158</th>\n",
       "      <td>7949730012</td>\n",
       "      <td>why weren`t we invited?</td>\n",
       "      <td>why weren`t we invited?</td>\n",
       "      <td>neutral</td>\n",
       "      <td>-1</td>\n",
       "      <td>0</td>\n",
       "    </tr>\n",
       "    <tr>\n",
       "      <th>12794</th>\n",
       "      <td>112e8afc05</td>\n",
       "      <td>r   that squeeze bacon looks like poop</td>\n",
       "      <td>r   that squeeze bacon looks like poop</td>\n",
       "      <td>neutral</td>\n",
       "      <td>-1</td>\n",
       "      <td>0</td>\n",
       "    </tr>\n",
       "    <tr>\n",
       "      <th>22529</th>\n",
       "      <td>9389b2e59d</td>\n",
       "      <td>LOL. dood, i love you and miss you.</td>\n",
       "      <td>i love you and miss you.</td>\n",
       "      <td>neutral</td>\n",
       "      <td>1</td>\n",
       "      <td>0</td>\n",
       "    </tr>\n",
       "  </tbody>\n",
       "</table>\n",
       "</div>"
      ],
      "text/plain": [
       "           textID                                               text  \\\n",
       "3885   22ecd73521  So apparently i left my front door wide open b...   \n",
       "20348  531fe402e7  Just started raining in earnest... guess golf ...   \n",
       "269    de8c4c410d                                         Hell Yeah!   \n",
       "26279  79c0162c77   useless tweet! LOL jk yay!!! You`re coming tm...   \n",
       "841    81adf60881   I`ve read good things bout it. Just not feeli...   \n",
       "15253  ee5b92dd36  TWEEEEEET! good morning twitterland! going to ...   \n",
       "20076  04795b9c4a  the classes with my students are over  gonna m...   \n",
       "23178  e4e71486e3  If anyone needs help with images, let me know ...   \n",
       "14581  a838d1a793  am sitting in the library with eyes half close...   \n",
       "21466  4f5cb8c34f  All I want to do is sit back & relax for a lit...   \n",
       "455    754ebd84b4  http://twitpic.com/67qv3 - Me at Forever 21  E...   \n",
       "1077   3d5c1ed21b   Up is out?  I didn`t get the memo   It looks ...   \n",
       "11170  45b75eb618                sunniest week for ages....and exams   \n",
       "16411  7d1e81e0b9   I know we need it but I`m not a fan of daily ...   \n",
       "26158  7949730012                            why weren`t we invited?   \n",
       "12794  112e8afc05             r   that squeeze bacon looks like poop   \n",
       "22529  9389b2e59d                LOL. dood, i love you and miss you.   \n",
       "\n",
       "                                           selected_text sentiment  \\\n",
       "3885                                                Love  positive   \n",
       "20348  Just started raining in earnest... guess golf ...   neutral   \n",
       "269                                           Hell Yeah!   neutral   \n",
       "26279                                            useless  negative   \n",
       "841                                                 good  positive   \n",
       "15253                                            good mo  positive   \n",
       "20076                                 gonna miss them...  negative   \n",
       "23178                                   i will convo you  positive   \n",
       "14581  am sitting in the library with eyes half close...   neutral   \n",
       "21466  All I want to do is sit back & relax for a lit...   neutral   \n",
       "455            Me at Forever 21  Ethan couldn`t be there  negative   \n",
       "1077                                  o   It looks amazi  positive   \n",
       "11170                sunniest week for ages....and exams   neutral   \n",
       "16411                                              enjoy  positive   \n",
       "26158                            why weren`t we invited?   neutral   \n",
       "12794             r   that squeeze bacon looks like poop   neutral   \n",
       "22529                           i love you and miss you.   neutral   \n",
       "\n",
       "       predicted_sentiment  numerical_sentiment  \n",
       "3885                     0                    1  \n",
       "20348                   -1                    0  \n",
       "269                      1                    0  \n",
       "26279                    0                   -1  \n",
       "841                      0                    1  \n",
       "15253                    0                    1  \n",
       "20076                    1                   -1  \n",
       "23178                    0                    1  \n",
       "14581                   -1                    0  \n",
       "21466                   -1                    0  \n",
       "455                      0                   -1  \n",
       "1077                     0                    1  \n",
       "11170                    1                    0  \n",
       "16411                   -1                    1  \n",
       "26158                   -1                    0  \n",
       "12794                   -1                    0  \n",
       "22529                    1                    0  "
      ]
     },
     "execution_count": 136,
     "metadata": {},
     "output_type": "execute_result"
    }
   ],
   "source": [
    "df_mini[df_mini['predicted_sentiment']!=df_mini[\"numerical_sentiment\"]]"
   ]
  },
  {
   "cell_type": "code",
   "execution_count": 140,
   "metadata": {},
   "outputs": [
    {
     "data": {
      "text/plain": [
       "2"
      ]
     },
     "execution_count": 140,
     "metadata": {},
     "output_type": "execute_result"
    }
   ],
   "source": [
    "sum( abs((df_mini['predicted_sentiment'] - df_mini[\"numerical_sentiment\"]) ) == 2 )"
   ]
  },
  {
   "cell_type": "code",
   "execution_count": null,
   "metadata": {},
   "outputs": [],
   "source": []
  }
 ],
 "metadata": {
  "kernelspec": {
   "display_name": "Python 3 (ipykernel)",
   "language": "python",
   "name": "python3"
  },
  "language_info": {
   "codemirror_mode": {
    "name": "ipython",
    "version": 3
   },
   "file_extension": ".py",
   "mimetype": "text/x-python",
   "name": "python",
   "nbconvert_exporter": "python",
   "pygments_lexer": "ipython3",
   "version": "3.10.13"
  }
 },
 "nbformat": 4,
 "nbformat_minor": 2
}
