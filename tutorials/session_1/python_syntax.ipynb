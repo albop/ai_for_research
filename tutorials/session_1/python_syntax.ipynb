{
  "cells": [
    {
      "cell_type": "markdown",
      "metadata": {},
      "source": [
        "# Python: syntax review\n",
        "\n",
        "## Basic Types\n",
        "\n",
        "### numbers"
      ],
      "id": "633f7a2f-9419-4618-adfc-4dbe1211866d"
    },
    {
      "cell_type": "code",
      "execution_count": 1,
      "metadata": {},
      "outputs": [],
      "source": [
        "# integers and floats"
      ],
      "id": "82b269a3"
    },
    {
      "cell_type": "code",
      "execution_count": 2,
      "metadata": {},
      "outputs": [],
      "source": [
        "1"
      ],
      "id": "7c7190d9"
    },
    {
      "cell_type": "code",
      "execution_count": 3,
      "metadata": {},
      "outputs": [],
      "source": [
        "1.0"
      ],
      "id": "53988a73"
    },
    {
      "cell_type": "code",
      "execution_count": 4,
      "metadata": {},
      "outputs": [],
      "source": [
        "# conversion with int() and float()\n",
        "float( 1 )"
      ],
      "id": "33598d9b"
    },
    {
      "cell_type": "code",
      "execution_count": 5,
      "metadata": {},
      "outputs": [],
      "source": [
        "int(2.9) # floor"
      ],
      "id": "75c64365"
    },
    {
      "cell_type": "code",
      "execution_count": 6,
      "metadata": {},
      "outputs": [],
      "source": [
        "# no difference between various types of floats (16 bits, 32 bits, 64 bits, ...)"
      ],
      "id": "c0a3ed10"
    },
    {
      "cell_type": "code",
      "execution_count": 7,
      "metadata": {},
      "outputs": [],
      "source": [
        "type( 2.2**50 ) # this doesn't fit in 32 bits"
      ],
      "id": "423e6dec"
    },
    {
      "cell_type": "code",
      "execution_count": 8,
      "metadata": {},
      "outputs": [],
      "source": [
        "# usual operations + - *\n",
        "print( 2 + 3 )\n",
        "print( 9 -6 )\n",
        "print( 3 / 2 )\n",
        "print(2304310958*41324)"
      ],
      "id": "8a4138bd"
    },
    {
      "cell_type": "code",
      "execution_count": 9,
      "metadata": {},
      "outputs": [],
      "source": [
        "# divisions / and //\n",
        "print(3/4)\n",
        "print(13//4)"
      ],
      "id": "7f80c35d"
    },
    {
      "cell_type": "code",
      "execution_count": 10,
      "metadata": {},
      "outputs": [],
      "source": [
        "# exponentiation ** (not ^!)\n",
        "# (1.04)^10\n",
        "(1.04)**10"
      ],
      "id": "213a1437"
    },
    {
      "cell_type": "code",
      "execution_count": 11,
      "metadata": {},
      "outputs": [],
      "source": [
        "# comparison operators: >, <, >=, <=, ==\n",
        "\n",
        "print((1.0453432)*(0.96)  > 1.001 )\n",
        "\n",
        "print(1.001 >= 1.001)"
      ],
      "id": "d63c7c18"
    },
    {
      "cell_type": "code",
      "execution_count": 12,
      "metadata": {},
      "outputs": [],
      "source": [
        "# comparison operators can be chained:\n",
        "print(0.2<0.4<0.5)\n",
        "print(0.5<=0.4<=0.5) # equivalent to ((0.5<=0.4) and(0.4<=0.5))"
      ],
      "id": "fd9c0a11"
    },
    {
      "cell_type": "markdown",
      "metadata": {},
      "source": [
        "### special types: boolean and None\n",
        "\n",
        "There are only two booleans: `True` and `False` (note uppercase). `None`\n",
        "is a dummy type, which is used when no other type fits."
      ],
      "id": "903ffa04-0f70-407d-ac80-0c448c513417"
    },
    {
      "cell_type": "code",
      "execution_count": 13,
      "metadata": {},
      "outputs": [],
      "source": [
        "print( False )\n",
        "True"
      ],
      "id": "7ab6b7ed"
    },
    {
      "cell_type": "code",
      "execution_count": 14,
      "metadata": {},
      "outputs": [],
      "source": [
        "(True, False, None)"
      ],
      "id": "e9a0a3f2"
    },
    {
      "cell_type": "markdown",
      "metadata": {},
      "source": [
        "Double equal sign tests for equality. Result should always be a boolean."
      ],
      "id": "7e77e407-8f2f-4ebf-87b4-e87b83c9694c"
    },
    {
      "cell_type": "code",
      "execution_count": 15,
      "metadata": {},
      "outputs": [],
      "source": [
        "True==False"
      ],
      "id": "7dc5b557"
    },
    {
      "cell_type": "markdown",
      "metadata": {},
      "source": [
        "Logical operators are `not`, `and` and `or`:"
      ],
      "id": "505fe1e4-5ff3-4869-9943-3f18e47c0c43"
    },
    {
      "cell_type": "code",
      "execution_count": 16,
      "metadata": {},
      "outputs": [],
      "source": [
        "(True or False)"
      ],
      "id": "451b31f2"
    },
    {
      "cell_type": "code",
      "execution_count": 17,
      "metadata": {},
      "outputs": [],
      "source": [
        "not (True or False)"
      ],
      "id": "0835ea16"
    },
    {
      "cell_type": "code",
      "execution_count": 18,
      "metadata": {},
      "outputs": [],
      "source": [
        "(1.3**1.04 > 1.9) | (1000**1143>1001**1142)"
      ],
      "id": "9b82ddae"
    },
    {
      "cell_type": "markdown",
      "metadata": {},
      "source": [
        "Operators `or` and `and` can be replaced by `|` and `&` respectively.\n",
        "They are *non-greedy*, that is terms are not evaluated if the result of\n",
        "the comparison is already known."
      ],
      "id": "d8411b24-e4cd-446f-947f-7517f7caa381"
    },
    {
      "cell_type": "code",
      "execution_count": 19,
      "metadata": {},
      "outputs": [],
      "source": [
        "False and (print(\"Hello\"))"
      ],
      "id": "85347283"
    },
    {
      "cell_type": "code",
      "execution_count": 20,
      "metadata": {},
      "outputs": [],
      "source": [
        "print( (print(\"Hello\")) and False )"
      ],
      "id": "75e7a779"
    },
    {
      "cell_type": "markdown",
      "metadata": {},
      "source": [
        "### strings\n",
        "\n",
        "#### definition\n",
        "\n",
        "Strings are defined by enclosing characters either by `'` (single\n",
        "quotes) or `\"` (double quote). Single quotes strings can contain double\n",
        "quotes strings and vice-versa."
      ],
      "id": "160c5dae-8e31-4fed-ba8e-d7c8bc50d9e0"
    },
    {
      "cell_type": "code",
      "execution_count": 21,
      "metadata": {},
      "outputs": [],
      "source": [
        "\"name\""
      ],
      "id": "fe937a5c"
    },
    {
      "cell_type": "code",
      "execution_count": 22,
      "metadata": {},
      "outputs": [],
      "source": [
        "'name'"
      ],
      "id": "ec484a64"
    },
    {
      "cell_type": "code",
      "execution_count": 23,
      "metadata": {},
      "outputs": [],
      "source": [
        "'I say \"hello\"'"
      ],
      "id": "1a3803ff"
    },
    {
      "cell_type": "code",
      "execution_count": 24,
      "metadata": {},
      "outputs": [],
      "source": [
        "\"You can 'quote' me\""
      ],
      "id": "29623539"
    },
    {
      "cell_type": "markdown",
      "metadata": {},
      "source": [
        "Strings spanning over sever lines can be defined with triple quotes\n",
        "(single or double)."
      ],
      "id": "03d924e6-54ec-4ea2-9dd9-b37ca00e370f"
    },
    {
      "cell_type": "code",
      "execution_count": 25,
      "metadata": {},
      "outputs": [],
      "source": [
        "s = \"\"\"¿Qué es la vida? Un frenesí.\n",
        "¿Qué es la vida? Una ilusión,\n",
        "una sombra, una ficción,\n",
        "y el mayor bien es pequeño;\n",
        "que toda la vida es sueño,\n",
        "y los sueños, sueños son.\n",
        "\"\"\""
      ],
      "id": "03c16970"
    },
    {
      "cell_type": "markdown",
      "metadata": {},
      "source": [
        "It is also possible to use the newline character `\\n`."
      ],
      "id": "a77ded85-b95a-43e6-bc42-8a5acc7065b4"
    },
    {
      "cell_type": "code",
      "execution_count": 26,
      "metadata": {},
      "outputs": [],
      "source": [
        "\"La vida es sueño,\\ny los sueños, sueños son.\""
      ],
      "id": "1cd503d4"
    },
    {
      "cell_type": "code",
      "execution_count": 27,
      "metadata": {},
      "outputs": [],
      "source": [
        "print(\"La vida es sueño,\\ny los sueños, sueños son.\")"
      ],
      "id": "6db1968a"
    },
    {
      "cell_type": "markdown",
      "metadata": {},
      "source": [
        "#### character sets\n",
        "\n",
        "Strings can contain any unicode character:"
      ],
      "id": "e74c28e7-ab3f-4683-acc1-291059a89a9f"
    },
    {
      "cell_type": "code",
      "execution_count": 28,
      "metadata": {},
      "outputs": [],
      "source": [
        "s = \"🎻⽻༽\""
      ],
      "id": "017d5de4"
    },
    {
      "cell_type": "markdown",
      "metadata": {},
      "source": [
        "*Refresher*: ASCII vs unicode\n",
        "\n",
        "ASCII (or ASCII-US) is an old standard which codes a character with 7\n",
        "bits (or 8 bits for extended ASCII). This allows to code 128 different\n",
        "characters (256 for ex-ASCII).\n",
        "\n",
        "Only a subset of these characters can be printed regularly."
      ],
      "id": "4c643be4-3ca8-452d-bd01-398c4bdc7ed6"
    },
    {
      "cell_type": "code",
      "execution_count": 29,
      "metadata": {},
      "outputs": [],
      "source": [
        "chr(44)"
      ],
      "id": "7aab9694"
    },
    {
      "cell_type": "code",
      "execution_count": 30,
      "metadata": {},
      "outputs": [],
      "source": [
        "# ASCII: \n",
        "for i in range(32,127):\n",
        "    print( chr(i), end=' ')"
      ],
      "id": "ef54d11a"
    },
    {
      "cell_type": "markdown",
      "metadata": {},
      "source": [
        "The other characters include *delete*, *newline* and *carriage return*\n",
        "among others."
      ],
      "id": "78f723cf-45ff-4866-84ba-602fb4ba4371"
    },
    {
      "cell_type": "code",
      "execution_count": 31,
      "metadata": {},
      "outputs": [],
      "source": [
        "s = 'This is\\na\\nmultiline string.' # note the newline character '\\n'"
      ],
      "id": "ac3d5e83"
    },
    {
      "cell_type": "code",
      "execution_count": 32,
      "metadata": {},
      "outputs": [],
      "source": [
        "# print(s)\n",
        "len(s)"
      ],
      "id": "ff829568"
    },
    {
      "cell_type": "markdown",
      "metadata": {},
      "source": [
        "Some antiquated platforms still use newline + carriage return at the end\n",
        "of each line. This is absolutely not required and causes\n",
        "incompatibilities."
      ],
      "id": "0ce5337c-3050-4a96-8bf7-4f404cf2798a"
    },
    {
      "cell_type": "code",
      "execution_count": 33,
      "metadata": {},
      "outputs": [],
      "source": [
        "s2 = 'This is\\n\\ra\\n\\rmultiline string.' # note the newline character '\\n' and carriager return '\\r'"
      ],
      "id": "a10c6aac"
    },
    {
      "cell_type": "code",
      "execution_count": 34,
      "metadata": {},
      "outputs": [],
      "source": [
        "print(s2)\n",
        "print(len(s2))"
      ],
      "id": "8f629ba6"
    },
    {
      "cell_type": "markdown",
      "metadata": {},
      "source": [
        "Unicode contains a repertoire of over 137,000 characters with all ASCII\n",
        "characters as subcases\n",
        "\n",
        "To type: copy/paste, ctrl+shift+hexadecimal, latex + tab\n",
        "\n",
        "Variable names aka identifiers can contain unicode characters with some\n",
        "restrictions: - they cannot start with a digit - they can’t contain\n",
        "special variables (‘!,#,@,%,\\$’ and other unicode specials ???) - they\n",
        "can contain underscore\n",
        "\n",
        "#### operations\n",
        "\n",
        "concatenation"
      ],
      "id": "0779b17f-28d2-4d4d-9a8b-04fd6699f6aa"
    },
    {
      "cell_type": "code",
      "execution_count": 35,
      "metadata": {},
      "outputs": [],
      "source": [
        "'abc' + 'def'"
      ],
      "id": "28772ec4"
    },
    {
      "cell_type": "code",
      "execution_count": 36,
      "metadata": {},
      "outputs": [],
      "source": [
        "'abc'*3"
      ],
      "id": "a7e77f63"
    },
    {
      "cell_type": "code",
      "execution_count": 37,
      "metadata": {},
      "outputs": [],
      "source": [
        "'abc' + 'abc' + 'abc'"
      ],
      "id": "7cd2cd7f"
    },
    {
      "cell_type": "markdown",
      "metadata": {},
      "source": [
        "#### substrings"
      ],
      "id": "3f550b6a-fb0e-4d95-bde0-c52e8f34f821"
    },
    {
      "cell_type": "code",
      "execution_count": 38,
      "metadata": {},
      "outputs": [],
      "source": [
        "# strings can be accessed as arrays (0 based indexing)\n",
        "s = \"a b c\"\n",
        "s[0]"
      ],
      "id": "c6e617f9"
    },
    {
      "cell_type": "code",
      "execution_count": 39,
      "metadata": {},
      "outputs": [],
      "source": [
        "# slice notation (  [min,max[ )\n",
        "s = \"a b c d\"\n",
        "s[2:5] # 0-based; 2 included, 5 excluded"
      ],
      "id": "69b3633c"
    },
    {
      "cell_type": "code",
      "execution_count": 40,
      "metadata": {},
      "outputs": [],
      "source": [
        "# substrings are easy to check\n",
        "\"a\" in s"
      ],
      "id": "fbd5e0b8"
    },
    {
      "cell_type": "code",
      "execution_count": 41,
      "metadata": {},
      "outputs": [],
      "source": [
        "\"b c\" in \"a b c d\""
      ],
      "id": "f7924a58"
    },
    {
      "cell_type": "markdown",
      "metadata": {},
      "source": [
        "It is impossible to modify a substring."
      ],
      "id": "c4ccec61-c6aa-44a9-a86e-275a9fdbc8df"
    },
    {
      "cell_type": "code",
      "execution_count": 42,
      "metadata": {},
      "outputs": [],
      "source": [
        "# but are immutable\n",
        "s = \"a b c\"\n",
        "#s[1] = 0 error"
      ],
      "id": "3ea12394"
    },
    {
      "cell_type": "markdown",
      "metadata": {},
      "source": [
        "Instead, one can replace a substring:"
      ],
      "id": "6b4b9aa4-2f44-4ea7-9c71-bf741fe03896"
    },
    {
      "cell_type": "code",
      "execution_count": 43,
      "metadata": {},
      "outputs": [],
      "source": [
        "s"
      ],
      "id": "0f4ed151"
    },
    {
      "cell_type": "code",
      "execution_count": 44,
      "metadata": {},
      "outputs": [],
      "source": [
        "s.replace(' ', '🎻')"
      ],
      "id": "53cb95a2"
    },
    {
      "cell_type": "markdown",
      "metadata": {},
      "source": [
        "Or use string interpolation"
      ],
      "id": "95db5c3a-6695-494c-96cf-823563417322"
    },
    {
      "cell_type": "code",
      "execution_count": 45,
      "metadata": {},
      "outputs": [],
      "source": [
        "# string interpolation (old school)\n",
        "\"ny name is {name}\".format(name=\"nobody\")"
      ],
      "id": "22a2b7f5"
    },
    {
      "cell_type": "code",
      "execution_count": 46,
      "metadata": {},
      "outputs": [],
      "source": [
        "\"calculation took {time}s\".format(time=10000)"
      ],
      "id": "e3528f02"
    },
    {
      "cell_type": "code",
      "execution_count": 47,
      "metadata": {},
      "outputs": [],
      "source": [
        "# number format can be tweaked\n",
        "\"I am {age:.0f} years old\".format(age=5.65)"
      ],
      "id": "a1a7bf7a"
    },
    {
      "cell_type": "code",
      "execution_count": 48,
      "metadata": {},
      "outputs": [],
      "source": [
        "# formatted strings\n",
        "elapsed = 15914884.300292\n",
        "\n",
        "f\"computations took {elapsed/3600:.2f} hours\""
      ],
      "id": "822169cd"
    },
    {
      "cell_type": "code",
      "execution_count": 49,
      "metadata": {},
      "outputs": [],
      "source": [
        "name = \"arnaldur\""
      ],
      "id": "77fdf19c"
    },
    {
      "cell_type": "code",
      "execution_count": 50,
      "metadata": {},
      "outputs": [],
      "source": [
        "\"dasnfnaksujhn {name}\".format(name=\"whatever\")"
      ],
      "id": "0be5d912"
    },
    {
      "cell_type": "code",
      "execution_count": 51,
      "metadata": {},
      "outputs": [],
      "source": [
        "# basic string operations: str.split, str.join, etc...\n",
        "# fast regular expressions\n",
        "# more on it, with text processing lesson"
      ],
      "id": "d74ed799"
    },
    {
      "cell_type": "code",
      "execution_count": 52,
      "metadata": {},
      "outputs": [],
      "source": [
        "str.split(\"me,you,others,them\",',')"
      ],
      "id": "af42ee9f"
    },
    {
      "cell_type": "code",
      "execution_count": 53,
      "metadata": {},
      "outputs": [],
      "source": [
        "str.join( \" | \",\n",
        "    str.split(\"me,you,others,them\",','),\n",
        ")"
      ],
      "id": "4bf6fb5c"
    },
    {
      "cell_type": "markdown",
      "metadata": {},
      "source": [
        "#### Escaping characters\n",
        "\n",
        "The example above used several special characters: `\\n` which\n",
        "corresponds to only one ascii character and `{`/`}` which disappears\n",
        "after the string formatting. If one desires to print these characters\n",
        "precisely one needs to escape them using `\\` and `{` `}`."
      ],
      "id": "10109f63-be3c-48a5-93cd-ae3c7a82a1fb"
    },
    {
      "cell_type": "code",
      "execution_count": 54,
      "metadata": {},
      "outputs": [],
      "source": [
        "print(\"This is a one \\\\nline string\")\n",
        "print(\"This string keeps some {{curly}} brackets{}\".format('.'))"
      ],
      "id": "416eebfe"
    },
    {
      "cell_type": "markdown",
      "metadata": {},
      "source": [
        "#### Other operations on strings\n",
        "\n",
        "(check help(str) or help?)\n",
        "\n",
        "-   len() : length\n",
        "-   strip() : removes characters at the ends\n",
        "-   split() : split strings into several substrings separated by\n",
        "    separator\n",
        "-   join() : opposite of split"
      ],
      "id": "6ae10da9-b344-4af7-b1db-6fb8954f0782"
    },
    {
      "cell_type": "code",
      "execution_count": 55,
      "metadata": {},
      "outputs": [],
      "source": [
        "'others,'"
      ],
      "id": "f9f2da7a"
    },
    {
      "cell_type": "code",
      "execution_count": 56,
      "metadata": {},
      "outputs": [],
      "source": [
        "',me,others,'.strip(',')"
      ],
      "id": "006e2182"
    },
    {
      "cell_type": "code",
      "execution_count": 57,
      "metadata": {},
      "outputs": [],
      "source": [
        "s.count(',')"
      ],
      "id": "e8fc4b06"
    },
    {
      "cell_type": "code",
      "execution_count": 58,
      "metadata": {},
      "outputs": [],
      "source": [
        "help(str)"
      ],
      "id": "4f70cb9d"
    },
    {
      "cell_type": "markdown",
      "metadata": {},
      "source": [
        "## Assignment\n",
        "\n",
        "Any object can be reused by assigning an identifier to it. This is done\n",
        "with assignment operator `=`."
      ],
      "id": "ba1097d0-1616-43b8-be8e-a427d9bfe51b"
    },
    {
      "cell_type": "code",
      "execution_count": 59,
      "metadata": {},
      "outputs": [],
      "source": [
        "a = 3\n",
        "a"
      ],
      "id": "068850c5"
    },
    {
      "cell_type": "markdown",
      "metadata": {},
      "source": [
        "Note that assignment operator `=` is different from comparison operator\n",
        "`==`. Comparison operator is always True or False, while assignment\n",
        "operator has no value."
      ],
      "id": "403ca53c-1f21-42f3-87f7-08548ca0fabf"
    },
    {
      "cell_type": "code",
      "execution_count": 60,
      "metadata": {},
      "outputs": [],
      "source": [
        "(2==2) == True"
      ],
      "id": "eee3b9a0"
    },
    {
      "cell_type": "markdown",
      "metadata": {},
      "source": [
        "## Containers\n",
        "\n",
        "Any object created in Python is identified by a unique `id`. One can\n",
        "think of it approximately as its reference. Object collections, contain\n",
        "arbitrary other python objects, that is they contain references to them."
      ],
      "id": "1f719102-8efd-4fcb-a98e-ebafc4238c39"
    },
    {
      "cell_type": "code",
      "execution_count": 61,
      "metadata": {},
      "outputs": [],
      "source": [
        "id(s)"
      ],
      "id": "60b37273"
    },
    {
      "cell_type": "markdown",
      "metadata": {},
      "source": [
        "### tuples\n",
        "\n",
        "#### construction"
      ],
      "id": "91625fe5-025b-477e-8c54-a1ad9508c92d"
    },
    {
      "cell_type": "code",
      "execution_count": 62,
      "metadata": {},
      "outputs": [],
      "source": [
        "(1,2,\"a\" )"
      ],
      "id": "2a4a4e35"
    },
    {
      "cell_type": "markdown",
      "metadata": {},
      "source": [
        "Since tuples are immutable, two identical tuples, will always contain\n",
        "the same data."
      ],
      "id": "7270c46d-be6d-401b-9ae7-c73bdf731fc3"
    },
    {
      "cell_type": "code",
      "execution_count": 63,
      "metadata": {},
      "outputs": [],
      "source": [
        "t1  = (2,23)\n",
        "t2  = (2,23)"
      ],
      "id": "a0f14422"
    },
    {
      "cell_type": "code",
      "execution_count": 64,
      "metadata": {},
      "outputs": [],
      "source": [
        "# can contain any data\n",
        "t = (1,2,3,4,5,6)\n",
        "t1 = (t, \"a\", (1,2))\n",
        "t2 = (0,)  # note trailing coma for one element tuple\n",
        "t3 = (t, \"a\", (1,2))"
      ],
      "id": "8c3419f3"
    },
    {
      "cell_type": "code",
      "execution_count": 65,
      "metadata": {},
      "outputs": [],
      "source": [
        "t[0] = 78"
      ],
      "id": "7b483b0f"
    },
    {
      "cell_type": "markdown",
      "metadata": {},
      "source": [
        "Since tuples never change, they can be compared by hash values (if the\n",
        "data they hold can be hashed). Two tuples are identical if they contain\n",
        "the same data.\n",
        "\n",
        "Remark: hash function is any function that can be used to map data of\n",
        "arbitrary size to data of a fixed size. It is such that the probability\n",
        "of two data points of having the same hash is very small even if they\n",
        "are close to each other."
      ],
      "id": "0b54937d-2ba4-47ad-8e05-369aef3c578e"
    },
    {
      "cell_type": "code",
      "execution_count": 66,
      "metadata": {},
      "outputs": [],
      "source": [
        "t3 == t1"
      ],
      "id": "285d840e"
    },
    {
      "cell_type": "code",
      "execution_count": 67,
      "metadata": {},
      "outputs": [],
      "source": [
        "print(hash(t3))\n",
        "print(hash(t1))"
      ],
      "id": "db8214d5"
    },
    {
      "cell_type": "code",
      "execution_count": 68,
      "metadata": {},
      "outputs": [],
      "source": [
        "id(t3), id(t1)"
      ],
      "id": "a253029b"
    },
    {
      "cell_type": "markdown",
      "metadata": {},
      "source": [
        "#### access elements"
      ],
      "id": "e9c409e5-e6dd-4f04-8c7e-282e40964567"
    },
    {
      "cell_type": "code",
      "execution_count": 69,
      "metadata": {},
      "outputs": [],
      "source": [
        "# elements are accessed with brackets (0-based)\n",
        "t[0]"
      ],
      "id": "0c4f23ae"
    },
    {
      "cell_type": "code",
      "execution_count": 70,
      "metadata": {},
      "outputs": [],
      "source": [
        "# slice notation works too (  [min,max[ )\n",
        "t[1:3]"
      ],
      "id": "8023a8f5"
    },
    {
      "cell_type": "code",
      "execution_count": 71,
      "metadata": {},
      "outputs": [],
      "source": [
        "# repeat with *\n",
        "(3,2)*5"
      ],
      "id": "54461821"
    },
    {
      "cell_type": "code",
      "execution_count": 72,
      "metadata": {},
      "outputs": [],
      "source": [
        "(0)*5"
      ],
      "id": "efe8b2cd"
    },
    {
      "cell_type": "code",
      "execution_count": 73,
      "metadata": {},
      "outputs": [],
      "source": [
        "(0,)*5"
      ],
      "id": "51c9f7ae"
    },
    {
      "cell_type": "code",
      "execution_count": 74,
      "metadata": {},
      "outputs": [],
      "source": [
        "t2*5"
      ],
      "id": "53e22014"
    },
    {
      "cell_type": "code",
      "execution_count": 75,
      "metadata": {},
      "outputs": [],
      "source": [
        "# concatenate with +\n",
        "t+t1+t2"
      ],
      "id": "31e683fa"
    },
    {
      "cell_type": "code",
      "execution_count": 76,
      "metadata": {},
      "outputs": [],
      "source": [
        "# test for membership\n",
        "\n",
        "(1 in t)"
      ],
      "id": "47065b9e"
    },
    {
      "cell_type": "markdown",
      "metadata": {},
      "source": [
        "### lists\n",
        "\n",
        "lists are enclosed by brackets are *mutable ordered collections of\n",
        "elements*"
      ],
      "id": "c1a9fdb4-71b4-4ecb-a9cb-19c402bb624e"
    },
    {
      "cell_type": "code",
      "execution_count": 77,
      "metadata": {},
      "outputs": [],
      "source": [
        "l = [1,\"a\",4,5]"
      ],
      "id": "ae9d79bd"
    },
    {
      "cell_type": "code",
      "execution_count": 78,
      "metadata": {},
      "outputs": [],
      "source": [
        "l[1]"
      ],
      "id": "dea5c187"
    },
    {
      "cell_type": "code",
      "execution_count": 79,
      "metadata": {},
      "outputs": [],
      "source": [
        "l[1:] # if we omit the upper-bound it goes until the last element"
      ],
      "id": "03a4744e"
    },
    {
      "cell_type": "code",
      "execution_count": 80,
      "metadata": {},
      "outputs": [],
      "source": [
        "l[:2]"
      ],
      "id": "da07adda"
    },
    {
      "cell_type": "code",
      "execution_count": 81,
      "metadata": {},
      "outputs": [],
      "source": [
        "# lists are concatenated with +\n",
        "l[:2] + l[2:] == l"
      ],
      "id": "cf0a70c3"
    },
    {
      "cell_type": "code",
      "execution_count": 82,
      "metadata": {},
      "outputs": [],
      "source": [
        "# test for membership\n",
        "(5 in l)"
      ],
      "id": "85ba20d0"
    },
    {
      "cell_type": "code",
      "execution_count": 83,
      "metadata": {},
      "outputs": [],
      "source": [
        "# lists can be extended inplace\n",
        "ll = [1,2,3]\n",
        "ll.extend([4,5]) # several elements\n",
        "ll.append(6)\n",
        "ll"
      ],
      "id": "14c96171"
    },
    {
      "cell_type": "markdown",
      "metadata": {},
      "source": [
        "Since lists are mutable, it makes no sense to compute them by hash value\n",
        "(or the hash needs to be recomputed every time the values change)."
      ],
      "id": "22cbcf3c-44a5-453e-adcd-c39deed24809"
    },
    {
      "cell_type": "code",
      "execution_count": 84,
      "metadata": {},
      "outputs": [],
      "source": [
        "hash(ll)"
      ],
      "id": "85e7e994"
    },
    {
      "cell_type": "markdown",
      "metadata": {},
      "source": [
        "Sorted lists can be created with sorted (if elements can be ranked)"
      ],
      "id": "0f2f29dc-9792-41d3-8f2d-988548c97df0"
    },
    {
      "cell_type": "code",
      "execution_count": 85,
      "metadata": {},
      "outputs": [],
      "source": [
        "ll = [4,3,5]"
      ],
      "id": "96d45f07"
    },
    {
      "cell_type": "code",
      "execution_count": 86,
      "metadata": {},
      "outputs": [],
      "source": [
        "sorted(ll)"
      ],
      "id": "3159f02c"
    },
    {
      "cell_type": "code",
      "execution_count": 87,
      "metadata": {},
      "outputs": [],
      "source": [
        "ll"
      ],
      "id": "b460cbc4"
    },
    {
      "cell_type": "markdown",
      "metadata": {},
      "source": [
        "It is also possible to sort in place."
      ],
      "id": "8b2f02ff-9be1-49a0-a646-5ef837757deb"
    },
    {
      "cell_type": "code",
      "execution_count": 88,
      "metadata": {},
      "outputs": [],
      "source": [
        "ll.sort()\n",
        "ll"
      ],
      "id": "3ca3a6de"
    },
    {
      "cell_type": "code",
      "execution_count": 89,
      "metadata": {},
      "outputs": [],
      "source": [
        "sorted(ll) # creates a new list\n",
        "ll.sort()  # does it in place"
      ],
      "id": "87819b9d"
    },
    {
      "cell_type": "code",
      "execution_count": 90,
      "metadata": {},
      "outputs": [],
      "source": [
        "# in python internals:    ll.sort() equivalent sort(ll)"
      ],
      "id": "5c0aa099"
    },
    {
      "cell_type": "markdown",
      "metadata": {},
      "source": [
        "### set\n",
        "\n",
        "Sets are unordered collections of unique elements."
      ],
      "id": "6f453484-2331-4f1f-941a-6823c52ae8f7"
    },
    {
      "cell_type": "code",
      "execution_count": 91,
      "metadata": {},
      "outputs": [],
      "source": [
        "s1 = set([1,2,3,3,4,3,4])\n",
        "s2 = set([3,4,4,6,8])\n",
        "print(s1, s2)\n",
        "print(s1.intersection(s2))"
      ],
      "id": "af51e7be"
    },
    {
      "cell_type": "code",
      "execution_count": 92,
      "metadata": {},
      "outputs": [],
      "source": [
        "{3,4} == {4,3}"
      ],
      "id": "c72e4d38"
    },
    {
      "cell_type": "markdown",
      "metadata": {},
      "source": [
        "### dictionaries\n",
        "\n",
        "Dictionaries are ordered associative collections of elements. They store\n",
        "values associated to keys."
      ],
      "id": "bf63e135-4dfa-4969-a2ec-7fbad35c26be"
    },
    {
      "cell_type": "code",
      "execution_count": 93,
      "metadata": {},
      "outputs": [],
      "source": [
        "# construction with curly brackets\n",
        "d = {'a':0, 'b':1}"
      ],
      "id": "cf531d91"
    },
    {
      "cell_type": "code",
      "execution_count": 94,
      "metadata": {},
      "outputs": [],
      "source": [
        "d"
      ],
      "id": "fc120f92"
    },
    {
      "cell_type": "code",
      "execution_count": 95,
      "metadata": {},
      "outputs": [],
      "source": [
        "# values can be recovered by indexing the dict with a key\n",
        "d['b']"
      ],
      "id": "2bb41eab"
    },
    {
      "cell_type": "code",
      "execution_count": 96,
      "metadata": {},
      "outputs": [],
      "source": [
        "d = dict()\n",
        "# d['a'] = 42\n",
        "# d['b'] = 78\n",
        "d"
      ],
      "id": "b9d8e920"
    },
    {
      "cell_type": "code",
      "execution_count": 97,
      "metadata": {},
      "outputs": [],
      "source": [
        "d['a'] = 42"
      ],
      "id": "9cc4fcb5"
    },
    {
      "cell_type": "code",
      "execution_count": 98,
      "metadata": {},
      "outputs": [],
      "source": [
        "d['b']"
      ],
      "id": "fb827543"
    },
    {
      "cell_type": "markdown",
      "metadata": {},
      "source": [
        "Keys can be any hashable value:"
      ],
      "id": "5cf43526-ce0c-415f-9bfd-fa977a9f4eaa"
    },
    {
      "cell_type": "code",
      "execution_count": 99,
      "metadata": {},
      "outputs": [],
      "source": [
        "d[('a','b')] = 100"
      ],
      "id": "f9de564d"
    },
    {
      "cell_type": "code",
      "execution_count": 100,
      "metadata": {},
      "outputs": [],
      "source": [
        "d[ ['a','b'] ] = 100 # that won't work"
      ],
      "id": "dae1938b"
    },
    {
      "cell_type": "markdown",
      "metadata": {},
      "source": [
        "Note: until python 3.5 dictionaries were not ordered. Now the are\n",
        "guaranteed to keep the insertion order\n",
        "\n",
        "## Control flows\n",
        "\n",
        "### Conditional blocks\n",
        "\n",
        "Conditional blocks are preceeded by `if` and followed by an indented\n",
        "block. Note that it is advised to indent a block by a fixed set of space\n",
        "(usually 4) rather than use tabs."
      ],
      "id": "94249af7-73ca-45b4-af37-04e64824a08d"
    },
    {
      "cell_type": "code",
      "execution_count": 101,
      "metadata": {},
      "outputs": [],
      "source": [
        "if 'sun'>'moon':\n",
        "    print('warm')"
      ],
      "id": "91711641"
    },
    {
      "cell_type": "markdown",
      "metadata": {},
      "source": [
        "They can also be followed by elif and else statements:"
      ],
      "id": "62543d4e-fcce-47da-a013-cf45952d518b"
    },
    {
      "cell_type": "code",
      "execution_count": 102,
      "metadata": {},
      "outputs": [],
      "source": [
        "x = 0.5\n",
        "if (x<0):\n",
        "    y = 0.0\n",
        "elif (x<1.0):\n",
        "    y = x\n",
        "else:\n",
        "    y = 1+(x-1)*0.5"
      ],
      "id": "4365b411"
    },
    {
      "cell_type": "markdown",
      "metadata": {},
      "source": [
        "Remark that in the conditions, any variable can be used. The following\n",
        "evaluate to False: - 0 - empty collection"
      ],
      "id": "004592f0-6bc1-4489-bb15-2392fbf1aeea"
    },
    {
      "cell_type": "code",
      "execution_count": 103,
      "metadata": {},
      "outputs": [],
      "source": [
        "if 0: print(\"I won't print this.\")\n",
        "if 1: print(\"Maybe I will.\")\n",
        "if {}: print(\"Sir, your dictionary is empty\")\n",
        "if \"\": print(\"Sir, there is no string to speak of.\")"
      ],
      "id": "51a031c0"
    },
    {
      "cell_type": "markdown",
      "metadata": {},
      "source": [
        "### While\n",
        "\n",
        "The content of the while loop is repeated as long as a certain condition\n",
        "is met. Don’t forget to change that condition or the loop might run\n",
        "forever."
      ],
      "id": "6fd88679-1527-437d-9010-632dcd5d0b5b"
    },
    {
      "cell_type": "code",
      "execution_count": 104,
      "metadata": {},
      "outputs": [],
      "source": [
        "point_made = False\n",
        "i = 0\n",
        "while not point_made:\n",
        "    print(\"A fanatic is one who can't change his mind and won't change the subject.\")\n",
        "    i += 1 # this is a quasi-synonym of i = i + 1\n",
        "    if i>=20:\n",
        "          point_made = True"
      ],
      "id": "8f29739c"
    },
    {
      "cell_type": "markdown",
      "metadata": {},
      "source": [
        "### Loops"
      ],
      "id": "6a0825ff-b3f3-46c6-946e-6f3683b734f8"
    },
    {
      "cell_type": "code",
      "execution_count": 105,
      "metadata": {},
      "outputs": [],
      "source": [
        "# while loops\n",
        "i = 0\n",
        "while i<=10:\n",
        "    print(str(i)+\" \",  end='')\n",
        "    i+=1"
      ],
      "id": "10d9f33f"
    },
    {
      "cell_type": "code",
      "execution_count": 106,
      "metadata": {},
      "outputs": [],
      "source": [
        "# for loop\n",
        "for i in [0,1,2,3,4,5,6,7,8,9,10]:\n",
        "    print(str(i)+\" \",  end='')"
      ],
      "id": "3c0c177c"
    },
    {
      "cell_type": "code",
      "execution_count": 107,
      "metadata": {},
      "outputs": [],
      "source": [
        "# this works for any kind of iterable\n",
        "# for loop\n",
        "for i in (0,1,2,3,4,5,6,7,8,9,10):\n",
        "    print(str(i)+\" \",  end='')"
      ],
      "id": "d8c9ea53"
    },
    {
      "cell_type": "code",
      "execution_count": 108,
      "metadata": {},
      "outputs": [],
      "source": [
        "# including range generator (note last value)\n",
        "for i in range(11): \n",
        "    print(str(i)+\" \",  end='')"
      ],
      "id": "dc46cd1e"
    },
    {
      "cell_type": "code",
      "execution_count": 109,
      "metadata": {},
      "outputs": [],
      "source": [
        "range(11)"
      ],
      "id": "dbb3c451"
    },
    {
      "cell_type": "code",
      "execution_count": 110,
      "metadata": {},
      "outputs": [],
      "source": [
        "# one can also enumerate elements\n",
        "countries = (\"france\", \"uk\", \"germany\")\n",
        "for i,c in enumerate(countries): \n",
        "    print(f\"{i}: {c}\")"
      ],
      "id": "7e86e7ad"
    },
    {
      "cell_type": "code",
      "execution_count": 111,
      "metadata": {},
      "outputs": [],
      "source": [
        "s = set(c)"
      ],
      "id": "11bf9fe2"
    },
    {
      "cell_type": "code",
      "execution_count": 112,
      "metadata": {},
      "outputs": [],
      "source": [
        "# conditional blocks are constructed with if, elif, else\n",
        "for i,c in enumerate(countries):\n",
        "    if len(set(c).intersection(set(\"brexit\"))):\n",
        "        print(c)\n",
        "    else:\n",
        "        print(c + \" 😢\")"
      ],
      "id": "0f67a018"
    },
    {
      "cell_type": "markdown",
      "metadata": {},
      "source": [
        "It is possible to iterate over any iterable. This is true for a list or\n",
        "a generator:"
      ],
      "id": "d1b93b4c-b9eb-4e42-b0cc-5fdd4da39bac"
    },
    {
      "cell_type": "code",
      "execution_count": 113,
      "metadata": {},
      "outputs": [],
      "source": [
        "for i in range(10): # range(10) is a generator\n",
        "    print(i)"
      ],
      "id": "2165da12"
    },
    {
      "cell_type": "code",
      "execution_count": 114,
      "metadata": {},
      "outputs": [],
      "source": [
        "for i in [0,1,2,3,4,5,6,7,8,9]:\n",
        "    print(i)"
      ],
      "id": "423f6c37"
    },
    {
      "cell_type": "markdown",
      "metadata": {},
      "source": [
        "We can iterate of dictionary keys or values"
      ],
      "id": "755d5014-f19a-4893-93bc-e31e7d51a39c"
    },
    {
      "cell_type": "code",
      "execution_count": 115,
      "metadata": {},
      "outputs": [],
      "source": [
        "d = {1:2, 3:'i'}\n",
        "for k in d.keys():\n",
        "    print(k, d[k])\n",
        "for k in d.values():\n",
        "    print(k)"
      ],
      "id": "66cfc768"
    },
    {
      "cell_type": "markdown",
      "metadata": {},
      "source": [
        "or both at the same time:"
      ],
      "id": "8a3ccdc1-9226-4978-8b4f-6ab6f344fd6f"
    },
    {
      "cell_type": "code",
      "execution_count": 116,
      "metadata": {},
      "outputs": [],
      "source": [
        "for t in d.items():\n",
        "    print(t)\n",
        "\n",
        "# look at automatic unpacking\n",
        "for (k,v) in d.items():\n",
        "    print(f\"key: {k}, value: {v}\")"
      ],
      "id": "d419aeab"
    },
    {
      "cell_type": "markdown",
      "metadata": {},
      "source": [
        "### Comprehension and generators\n",
        "\n",
        "There is an easy syntax to construct lists/tuples/dicts: comprehension.\n",
        "Syntax is remminiscent of a for loop."
      ],
      "id": "c8ae5f08-a69d-4c55-8319-77357ecc4f9e"
    },
    {
      "cell_type": "code",
      "execution_count": 117,
      "metadata": {},
      "outputs": [],
      "source": [
        "[i**2 for i in range(10)]"
      ],
      "id": "121f704a"
    },
    {
      "cell_type": "code",
      "execution_count": 118,
      "metadata": {},
      "outputs": [],
      "source": [
        "set(i-(i//2*2) for i in range(10))"
      ],
      "id": "f33b486f"
    },
    {
      "cell_type": "code",
      "execution_count": 119,
      "metadata": {},
      "outputs": [],
      "source": [
        "{i: i**2 for i in range(10)}"
      ],
      "id": "14dedb04"
    },
    {
      "cell_type": "markdown",
      "metadata": {},
      "source": [
        "Comprehension can be combined with conditions:"
      ],
      "id": "b029a78a-8e31-4eeb-abef-631d3a24b020"
    },
    {
      "cell_type": "code",
      "execution_count": 120,
      "metadata": {},
      "outputs": [],
      "source": [
        "[i**2 for i in range(10) if i//3>2]"
      ],
      "id": "3f589965"
    },
    {
      "cell_type": "markdown",
      "metadata": {},
      "source": [
        "Behind the comprehension syntax, there is a special object called\n",
        "generator. Its role is to supply objects one by one like any other\n",
        "iterable."
      ],
      "id": "4e10c145-4c15-4cd4-8c85-404f0901fc66"
    },
    {
      "cell_type": "code",
      "execution_count": 121,
      "metadata": {},
      "outputs": [],
      "source": [
        "# note the bracket\n",
        "gen = (i**2 for i in range(10))\n",
        "gen # does nothing"
      ],
      "id": "984a2230"
    },
    {
      "cell_type": "code",
      "execution_count": 122,
      "metadata": {},
      "outputs": [],
      "source": [
        "gen = (i**2 for i in range(10))\n",
        "for e in gen:\n",
        "    print(e)"
      ],
      "id": "0b311ec9"
    },
    {
      "cell_type": "code",
      "execution_count": 123,
      "metadata": {},
      "outputs": [],
      "source": [
        "gen = (i**2 for i in range(10))\n",
        "print([e for e in gen])"
      ],
      "id": "bced2012"
    },
    {
      "cell_type": "markdown",
      "metadata": {},
      "source": [
        "There is a shortcut to converte a generator into a list: it’s called\n",
        "unpacking:"
      ],
      "id": "949e7ba6-7949-4e8c-8745-9d17ac6ec6ac"
    },
    {
      "cell_type": "code",
      "execution_count": 124,
      "metadata": {},
      "outputs": [],
      "source": [
        "gen = (i**2 for i in range(10))\n",
        "[*gen]"
      ],
      "id": "c8f4dfda"
    },
    {
      "cell_type": "markdown",
      "metadata": {},
      "source": [
        "## Functions\n",
        "\n",
        "Wrong approach"
      ],
      "id": "1d501a25-c8ea-4d83-bdda-7d0b1de6817a"
    },
    {
      "cell_type": "code",
      "execution_count": 125,
      "metadata": {},
      "outputs": [],
      "source": [
        "a1 = 34\n",
        "b1 = (1+a1*a1)\n",
        "c1 = (a1+b1*b1)\n",
        "\n",
        "a2 = 36\n",
        "b2 = (1+a2*a2)\n",
        "c2 = (a2+b2*b2)\n",
        "\n",
        "print(c1,c2)"
      ],
      "id": "51c79cdf"
    },
    {
      "cell_type": "markdown",
      "metadata": {},
      "source": [
        "Better approach"
      ],
      "id": "e5d58e8e-a960-4275-8e75-5d4db046f170"
    },
    {
      "cell_type": "code",
      "execution_count": 126,
      "metadata": {},
      "outputs": [],
      "source": [
        "def calc(a):\n",
        "    b = 1+a*a\n",
        "    c = a+b*b\n",
        "    return c\n",
        "\n",
        "(calc(34), calc(36))"
      ],
      "id": "6d657f0c"
    },
    {
      "cell_type": "markdown",
      "metadata": {},
      "source": [
        "it is equivalent to replace the content of the function by:"
      ],
      "id": "94e5b931-5f3b-423d-8e7b-812cb23cdd60"
    },
    {
      "cell_type": "code",
      "execution_count": 127,
      "metadata": {},
      "outputs": [],
      "source": [
        "a = 32\n",
        "_a = a          # def calc(a):\n",
        "_b = 1+_a*_a    #    b = 1+a*a\n",
        "_c = _a+_b*_b   #    c = a+b*b\n",
        "res = _c        #    return c"
      ],
      "id": "5d758bbe"
    },
    {
      "cell_type": "markdown",
      "metadata": {},
      "source": [
        "Note that variable names within the function have different names. This\n",
        "is to avoid name conflicts as in:"
      ],
      "id": "faedbc01-99d5-4517-bec0-fc433d3ea8ca"
    },
    {
      "cell_type": "code",
      "execution_count": 128,
      "metadata": {},
      "outputs": [],
      "source": [
        "y = 1\n",
        "def f(x):\n",
        "    y = x**2\n",
        "    return y+1\n",
        "def g(x):\n",
        "    y = x**2+0.1\n",
        "    return y+1\n",
        "r1 = f(1.4)\n",
        "r2 = g(1.4)\n",
        "r3 = y\n",
        "(r1,r2,r3)"
      ],
      "id": "1a3a9d59"
    },
    {
      "cell_type": "code",
      "execution_count": 129,
      "metadata": {},
      "outputs": [],
      "source": [
        "l = ['france', 'germany']\n",
        "def fun(i):\n",
        "    print(f\"Country: {l[i]}\")\n",
        "fun(0)"
      ],
      "id": "81e8374b"
    },
    {
      "cell_type": "code",
      "execution_count": 130,
      "metadata": {},
      "outputs": [],
      "source": [
        "l = ['france', 'germany']\n",
        "def fun(i):\n",
        "    l = ['usa', 'japan']\n",
        "    l.append('spain')\n",
        "    print(f\"Country: {l[i]}\")\n",
        "fun(0)"
      ],
      "id": "9ed6e3d0"
    },
    {
      "cell_type": "code",
      "execution_count": 131,
      "metadata": {},
      "outputs": [],
      "source": [
        "l"
      ],
      "id": "9f157a91"
    },
    {
      "cell_type": "markdown",
      "metadata": {},
      "source": [
        "In the preceding code block, value of `y` has not been changed by\n",
        "calling the two functions. Check\n",
        "[pythontutor](http://pythontutor.com/visualize.html#code=y%20%3D%201%0Adef%20f%28x%29%3A%0A%20%20%20%20y%20%3D%20x**2%0A%20%20%20%20return%20y%2B1%0Adef%20g%28x%29%3A%0A%20%20%20%20y%20%3D%20x**2%0A%20%20%20%20return%20y%2B1%0Ar1%20%3D%20f%281.4%29%0Ar2%20%3D%20g%281.4%29%0Ar3%20%3D%20y%0A%28r1,r2,r3%29&cumulative=false&curInstr=0&heapPrimitives=nevernest&mode=display&origin=opt-frontend.js&py=3&rawInputLstJSON=%5B%5D&textReferences=false).\n",
        "\n",
        "### Calling conventions\n",
        "\n",
        "Function definitions start with `def` and a colon indentation. Value are\n",
        "returned by `return` keyword. Otherwise the return value is `None`.\n",
        "Functions can have several arguments: `def f(x,y)` but always one return\n",
        "argument. It is however to return a tuple, and “unpack” it."
      ],
      "id": "ff44996f-7c4b-4859-8d28-255ddfb0150a"
    },
    {
      "cell_type": "code",
      "execution_count": 132,
      "metadata": {},
      "outputs": [],
      "source": [
        "def f(x,y):\n",
        "    z1 = x+y\n",
        "    z2 = x-y\n",
        "    return (z1,z2)      # here brackets are optional:  `return z1,z2` works too\n",
        "\n",
        "res = f(0.1, 0.2)\n",
        "t1, t2 = f(0.2, 0.2)     # t1,t2=res works too"
      ],
      "id": "9e6073be"
    },
    {
      "cell_type": "code",
      "execution_count": 133,
      "metadata": {},
      "outputs": [],
      "source": [
        "res"
      ],
      "id": "8711323d"
    },
    {
      "cell_type": "markdown",
      "metadata": {},
      "source": [
        "Named arguments can be passed in any order and receive default values."
      ],
      "id": "186b3c33-5403-4ee3-95a3-e6eb0282444b"
    },
    {
      "cell_type": "code",
      "execution_count": 134,
      "metadata": {},
      "outputs": [],
      "source": [
        "def problem(why=\"The moon shines.\", what=\"Curiosity killed the cat.\", where=\"Paris\"):\n",
        "    print(f\"Is it because {why.lower().strip('.')} that {what.lower().strip('.')}, in {where.strip('.')}?\")"
      ],
      "id": "5ac1ed12"
    },
    {
      "cell_type": "code",
      "execution_count": 135,
      "metadata": {},
      "outputs": [],
      "source": [
        "problem(where='Paris')"
      ],
      "id": "510c852a"
    },
    {
      "cell_type": "code",
      "execution_count": 136,
      "metadata": {},
      "outputs": [],
      "source": [
        "problem(where=\"ESCP\", why=\"Square root of two is irrational\", what=\"Some regressions never work.\")"
      ],
      "id": "ebb227f9"
    },
    {
      "cell_type": "markdown",
      "metadata": {},
      "source": [
        "Positional arguments and keyword arguments can be combined"
      ],
      "id": "7da22325-ce76-4438-930d-bf18ede1cad8"
    },
    {
      "cell_type": "code",
      "execution_count": 137,
      "metadata": {},
      "outputs": [],
      "source": [
        "def f(x, y, β=0.9, γ=4.0, δ=0.1):\n",
        "    return x*β+y**γ*δ"
      ],
      "id": "4877f37c"
    },
    {
      "cell_type": "code",
      "execution_count": 138,
      "metadata": {},
      "outputs": [],
      "source": [
        "f(0.1, 0.2)"
      ],
      "id": "db8d3fa5"
    },
    {
      "cell_type": "markdown",
      "metadata": {},
      "source": [
        "### Docstrings\n",
        "\n",
        "Functions are documented with a special string. Documentation It must\n",
        "follow the function signature immediately and explain what arguments are\n",
        "expected and what the function does"
      ],
      "id": "a42a0574-a154-4522-982b-8c1e765d9ae9"
    },
    {
      "cell_type": "code",
      "execution_count": 139,
      "metadata": {},
      "outputs": [],
      "source": [
        "def f(x, y, β=0.9, γ=4.0, δ=0.1):   # kjhkugku\n",
        "    \"\"\"Compute the model residuals\n",
        "    \n",
        "    Parameters\n",
        "    ----------\n",
        "    x: (float) marginal propensity to do complicated stuff\n",
        "    y: (float) inverse of the elasticity of bifractional risk-neutral substitution\n",
        "    β: (float) time discount (default 0.9)\n",
        "    γ: (float) time discount (default 4.0)\n",
        "    δ: (float) time discount (default 0.1)\n",
        "    \n",
        "    Result\n",
        "    ------\n",
        "    res: beta-Hadamard measure of cohesiveness\n",
        "    \n",
        "    \"\"\"\n",
        "    res = x*β+y**γ*δ\n",
        "    return res"
      ],
      "id": "bde29950"
    },
    {
      "cell_type": "markdown",
      "metadata": {},
      "source": [
        "Remark: Python 3.6 has introduced type indication for functions. They\n",
        "are useful as an element of indication and potentially for type\n",
        "checking. We do not cover them in this tutorial but this is what they\n",
        "look like:"
      ],
      "id": "86c20179-b21f-45ef-930c-10990ad70ec0"
    },
    {
      "cell_type": "code",
      "execution_count": 140,
      "metadata": {},
      "outputs": [],
      "source": [
        "def f(a: int, b:int)->int:\n",
        "    if a<=1:\n",
        "        return 1\n",
        "    else:\n",
        "        return f(a-1,b) + f(a-2,b)*b"
      ],
      "id": "9efc6171"
    },
    {
      "cell_type": "markdown",
      "metadata": {},
      "source": [
        "------------------------------------------------------------------------\n",
        "\n",
        "### Packing and unpacking\n",
        "\n",
        "A common case is when one wants to pass the elements of an iterable as\n",
        "positional argument and/or the elements of a dictionary as keyword\n",
        "arguments. This is espacially the case, when one wants to determine\n",
        "functions that act on a given calibration. Without unpacking all\n",
        "arguments would need to be passed separately."
      ],
      "id": "8e9fbe8a-2fff-4cbc-a121-e07c5357c64e"
    },
    {
      "cell_type": "code",
      "execution_count": 141,
      "metadata": {},
      "outputs": [],
      "source": [
        "v = (0.1, 0.2)\n",
        "p = dict(β=0.9, γ=4.0, δ=0.1)\n",
        "\n",
        "f(v[0], v[1], β=p['β'], γ=p['γ'], δ=p['δ'])"
      ],
      "id": "d0c68576"
    },
    {
      "cell_type": "markdown",
      "metadata": {},
      "source": [
        "There is a special syntax for that: `*` unpacks positional arguments and\n",
        "`**` unpacks keyword arguments. Here is an example:"
      ],
      "id": "284168ae-c4c5-4bac-a68b-ad04905b1bed"
    },
    {
      "cell_type": "code",
      "execution_count": 142,
      "metadata": {},
      "outputs": [],
      "source": [
        "f(*v, **p)"
      ],
      "id": "27908960"
    },
    {
      "cell_type": "markdown",
      "metadata": {},
      "source": [
        "The same characters `*` and `**` can actually be used for the reverse\n",
        "operation, that is packing. This is useful to determine functions of a\n",
        "variable number of arguments."
      ],
      "id": "29cd2c87-ca57-4234-8077-8ad7ed5ecd93"
    },
    {
      "cell_type": "code",
      "execution_count": 143,
      "metadata": {},
      "outputs": [],
      "source": [
        "def fun(**p):\n",
        "    β = p['β']\n",
        "    return β+1\n",
        "fun(β=1.0)\n",
        "fun(β=1.0, γ=2.0) # γ is just ignored"
      ],
      "id": "d4674740"
    },
    {
      "cell_type": "markdown",
      "metadata": {},
      "source": [
        "Inside the function, unpacked objects are lists and dictionaries\n",
        "respectively."
      ],
      "id": "fa76ad13-3626-427a-b985-0a6727da9700"
    },
    {
      "cell_type": "code",
      "execution_count": 144,
      "metadata": {},
      "outputs": [],
      "source": [
        "def fun(*args, **kwargs):\n",
        "    print(f\"Positional arguments: {len(args)}\")\n",
        "    for a in args:\n",
        "        print(f\"- {a}\")\n",
        "    print(f\"Keyword arguments: {len(args)}\")\n",
        "    for key,value in kwargs.items():\n",
        "        print(f\"- {key}: {value}\")"
      ],
      "id": "a52a1d79"
    },
    {
      "cell_type": "code",
      "execution_count": 145,
      "metadata": {},
      "outputs": [],
      "source": [
        "fun(0.1, 0.2, a=2, b=3, c=4)"
      ],
      "id": "850caca9"
    },
    {
      "cell_type": "markdown",
      "metadata": {},
      "source": [
        "### Functions are first class objects\n",
        "\n",
        "This means they can be assigned and passed around."
      ],
      "id": "f6e52ce6-8c27-494e-89ce-25b09de7eda7"
    },
    {
      "cell_type": "code",
      "execution_count": 146,
      "metadata": {},
      "outputs": [],
      "source": [
        "def f(x): return 2*x*(1-x)\n",
        "g = f # now `g` and `f` point to the same function\n",
        "g(0.4)"
      ],
      "id": "36b059fe"
    },
    {
      "cell_type": "code",
      "execution_count": 147,
      "metadata": {},
      "outputs": [],
      "source": [
        "def sumsfun(l, f):\n",
        "    return [f(e) for e in l]"
      ],
      "id": "eb06eb54"
    },
    {
      "cell_type": "code",
      "execution_count": 148,
      "metadata": {},
      "outputs": [],
      "source": [
        "sumsfun([0.0, 0.1, 0.2], f)"
      ],
      "id": "705806be"
    },
    {
      "cell_type": "code",
      "execution_count": 149,
      "metadata": {},
      "outputs": [],
      "source": [
        "def compute_recursive_series(x0, fun, T=50):\n",
        "    a = [x0]\n",
        "    for t in range(T):\n",
        "        x0 = a[-1]\n",
        "        x = fun(x0)\n",
        "        a.append(x)\n",
        "    return a\n",
        "\n",
        "compute_recursive_series(0.3, f, T=5)"
      ],
      "id": "b1e1847d"
    },
    {
      "cell_type": "markdown",
      "metadata": {},
      "source": [
        "There is another syntax to define a function, without giving it a name\n",
        "first: lambda functions. It is useful when passing a function as\n",
        "argument."
      ],
      "id": "a7df9e0d-3138-4672-94f6-2af828edbe82"
    },
    {
      "cell_type": "code",
      "execution_count": 150,
      "metadata": {},
      "outputs": [],
      "source": [
        "sorted(range(6), key=lambda x: (-2)**x)"
      ],
      "id": "72e0b37d"
    },
    {
      "cell_type": "markdown",
      "metadata": {},
      "source": [
        "Lambda functions are also useful to reduce quickly the number of\n",
        "arguments of a function (aka curryfication)"
      ],
      "id": "8155c4d2-3f62-44c0-b11a-7944d7d445e8"
    },
    {
      "cell_type": "code",
      "execution_count": 151,
      "metadata": {},
      "outputs": [],
      "source": [
        "def logistic(μ,x): return μ*x*(1-x)\n",
        "# def chaotic(x): return logistic(3.7, x)\n",
        "# def convergent(x): return logistic(2.5, x)\n",
        "chaotic = lambda x: logistic(3.7, x)\n",
        "convergent = lambda x: logistic(2.5, x)"
      ],
      "id": "6b40e955"
    },
    {
      "cell_type": "code",
      "execution_count": 152,
      "metadata": {},
      "outputs": [],
      "source": [
        "l = [compute_recursive_series(0.3,fun, T=20) for fun in [convergent, chaotic]]\n",
        "[*zip(*l)]"
      ],
      "id": "b120bbfe"
    },
    {
      "cell_type": "code",
      "execution_count": 153,
      "metadata": {},
      "outputs": [],
      "source": [
        "from matplotlib import pyplot as plt\n",
        "import numpy as np\n",
        "tab = np.array(l)\n",
        "plt.plot(tab[0,:-1],tab[0,1:])\n",
        "tab = np.array(l)\n",
        "plt.plot(tab[1,:-1],tab[1,1:])\n",
        "plt.plot(np.linspace(0,1),np.linspace(0,1))\n",
        "plt.xlabel(\"$x_n$\")\n",
        "plt.ylabel(\"$x_{n+1}$\")\n",
        "plt.grid()"
      ],
      "id": "33cf6533"
    },
    {
      "cell_type": "markdown",
      "metadata": {},
      "source": [
        "### Functions pass arguments by reference\n",
        "\n",
        "Most of the time, variable affectation just create a reference."
      ],
      "id": "5750f9a3-d286-41af-8870-25a4ce80b375"
    },
    {
      "cell_type": "code",
      "execution_count": 154,
      "metadata": {},
      "outputs": [],
      "source": [
        "a = [1,2,3]\n",
        "b = a\n",
        "a[1] = 0\n",
        "(a, b)"
      ],
      "id": "6abbd95f"
    },
    {
      "cell_type": "markdown",
      "metadata": {},
      "source": [
        "To get a copy instead, one needs to specify it explicitly."
      ],
      "id": "74557b43-982a-4f01-8408-e24ca89212c2"
    },
    {
      "cell_type": "code",
      "execution_count": 155,
      "metadata": {},
      "outputs": [],
      "source": [
        "import copy\n",
        "a = [1,2,3]\n",
        "b = copy.copy(a)\n",
        "a[1] = 0\n",
        "(a, b)"
      ],
      "id": "d6cfa1f2"
    },
    {
      "cell_type": "markdown",
      "metadata": {},
      "source": [
        "Not that copy follows only one level of references. Use deepcopy for\n",
        "more safety."
      ],
      "id": "69e2d1a4-1569-4d31-a0e5-3b9b0b99381a"
    },
    {
      "cell_type": "code",
      "execution_count": 156,
      "metadata": {},
      "outputs": [],
      "source": [
        "a0 = ['a','b']\n",
        "a = [a0, 1, 2]\n",
        "b = copy.copy(a)\n",
        "a[0][0] = 'ξ'\n",
        "a, b"
      ],
      "id": "b9f9699a"
    },
    {
      "cell_type": "code",
      "execution_count": 157,
      "metadata": {},
      "outputs": [],
      "source": [
        "a0 = ['a','b']\n",
        "a = [a0, 1, 2]\n",
        "b = copy.deepcopy(a)\n",
        "a[0][0] = 'ξ'\n",
        "a, b"
      ],
      "id": "b6ffb604"
    },
    {
      "cell_type": "markdown",
      "metadata": {},
      "source": [
        "Arguments in a function are references towards the original object. No\n",
        "data is copied. It is then easy to construct functions with\n",
        "side-effects."
      ],
      "id": "1862bea9-10e2-45ed-bf4f-dcb9278252da"
    },
    {
      "cell_type": "code",
      "execution_count": 158,
      "metadata": {},
      "outputs": [],
      "source": [
        "def append_inplace(l1, obs):\n",
        "    l1.append(obs)\n",
        "    return l1\n",
        "l1, obs = ([1,2,3], 1.5)\n",
        "l2 = append_inplace(l1,obs)\n",
        "print(l2, l1)\n",
        "# note that l1 and l2 point to the same object\n",
        "l1[0] = 'hey'\n",
        "print(l2, l1)"
      ],
      "id": "6d609f9a"
    },
    {
      "cell_type": "markdown",
      "metadata": {},
      "source": [
        "This behaviour might feel unnatural but is very sensible. For instance\n",
        "if the argument is a database of several gigabytes and one wants to\n",
        "write a function which will modify a few of its elements, it is not\n",
        "reasonable to copy the db in full.\n",
        "\n",
        "## Objects\n",
        "\n",
        "Objects ?\n",
        "\n",
        "-   can be passed around / referred too\n",
        "-   have properties (data) and methods (functions) attached to them\n",
        "-   inherit properties/methods from other objects\n",
        "\n",
        "Objects are defined by a class definition. By convention, classes names\n",
        "start with uppercase . To create an object, one calls the class name,\n",
        "possibly with additional arguments."
      ],
      "id": "e284f6da-d471-4af5-ab91-23ebdf1963fc"
    },
    {
      "cell_type": "code",
      "execution_count": 159,
      "metadata": {},
      "outputs": [],
      "source": [
        "class Dog:\n",
        "    name = \"May\" # class property\n",
        "\n",
        "d1 = Dog()\n",
        "d2 = Dog()\n",
        "\n",
        "print(f\"Class: d1->{type(d1)}, d2->{type(d2)}\")\n",
        "print(f\"Instance address: d2->{d1},{d2}\")"
      ],
      "id": "1ebff521"
    },
    {
      "cell_type": "markdown",
      "metadata": {},
      "source": [
        "Now, `d1` and `d2` are two different instances of the same class `Dog`.\n",
        "Since properties are mutable, instances can have different data attached\n",
        "to it."
      ],
      "id": "25ba0692-1d80-48a6-bea7-8b43f6434fc3"
    },
    {
      "cell_type": "code",
      "execution_count": 160,
      "metadata": {},
      "outputs": [],
      "source": [
        "d1.name = \"Boris\"\n",
        "print([e.name for e in [d1,d2]])"
      ],
      "id": "c83c06e6"
    },
    {
      "cell_type": "markdown",
      "metadata": {},
      "source": [
        "Methods are functions attached to a class / an instance. Their first\n",
        "argument is always an instance. The first argument can be used to acess\n",
        "data held by the instance."
      ],
      "id": "f5f38c51-6869-44ab-9c32-1f866d134b25"
    },
    {
      "cell_type": "code",
      "execution_count": 161,
      "metadata": {},
      "outputs": [],
      "source": [
        "class Dog:\n",
        "    name = None # default value\n",
        "    def bark(self):\n",
        "        print(\"Wouf\")\n",
        "    def converse(self):\n",
        "        n = self.name\n",
        "        print(f\"Hi, my name is {n}. I'm committed to a strong and stable government.\")\n",
        "        \n",
        "d = Dog()\n",
        "d.bark()   # bark(d)\n",
        "d.converse()"
      ],
      "id": "774dc733"
    },
    {
      "cell_type": "markdown",
      "metadata": {},
      "source": [
        "### Constructor\n",
        "\n",
        "There is also a special method `__init__` called the constructor. When\n",
        "an object is created, it is called on the instance. This is useful in\n",
        "order to initialize parameters of the instance."
      ],
      "id": "df26b611-0dd1-410f-89d5-4cc07e9eae8f"
    },
    {
      "cell_type": "code",
      "execution_count": 162,
      "metadata": {},
      "outputs": [],
      "source": [
        "class Calibration:\n",
        "    \n",
        "    def __init__(self, x=0.1, y=0.1, β=0.0):\n",
        "        if not (β>0) and (β<1):\n",
        "            raise Exception(\"Incorrect calibration\"})\n",
        "        self.x = x\n",
        "        self.y = y\n",
        "        self.β = β\n"
      ],
      "id": "fae45c18"
    },
    {
      "cell_type": "code",
      "execution_count": 163,
      "metadata": {},
      "outputs": [],
      "source": [
        "c1 = Calibration()\n",
        "c2 = Calibration(x=3, y=4)"
      ],
      "id": "a23cc597"
    },
    {
      "cell_type": "markdown",
      "metadata": {},
      "source": [
        "Two instances of the same class have the same method, but can hold\n",
        "different data. This can change the behaviour of these methods."
      ],
      "id": "20dc49e8-dd9d-46a3-9bd6-fd10980a1870"
    },
    {
      "cell_type": "code",
      "execution_count": 164,
      "metadata": {},
      "outputs": [],
      "source": [
        "# class Dog:\n",
        "    \n",
        "#     state = 'ok'\n",
        "    \n",
        "#     def bark(self):\n",
        "#         if self.state == 'ok':\n",
        "#             print(\"Wouf!\")\n",
        "#         else:\n",
        "#             print(\"Ahouuu!\")\n",
        "        \n",
        "# d = Dog()\n",
        "# d1 = Dog()\n",
        "# d1.state = 'hungry'\n",
        "\n",
        "# d.bark()\n",
        "# d1.bark()"
      ],
      "id": "37d94007"
    },
    {
      "cell_type": "markdown",
      "metadata": {},
      "source": [
        "To write a function which will manipulate properties and methods of an\n",
        "object, it is not required to know its type in advance. The function\n",
        "will succeed as long as the required method exist, fail other wise. This\n",
        "is called “Duck Typing”: if it walks like a duck, it must be a duck…"
      ],
      "id": "9d7a2070-61c5-4bd5-bdef-021d2d6d3072"
    },
    {
      "cell_type": "code",
      "execution_count": 165,
      "metadata": {},
      "outputs": [],
      "source": [
        "class Duck:\n",
        "    def walk(self): print(\"/-\\_/-\\_/\")\n",
        "        \n",
        "class Dog:\n",
        "    def walk(self): print(\"/-\\_/*\\_/\")\n",
        "    def bark(self): print(\"Wouf\")"
      ],
      "id": "5d460fae"
    },
    {
      "cell_type": "code",
      "execution_count": 166,
      "metadata": {},
      "outputs": [],
      "source": [
        "animals = [C() for C in (Duck,Dog)]\n",
        "def go_in_the_park(animal):\n",
        "    for i in range(3): animal.walk()\n",
        "for a in animals:\n",
        "    go_in_the_park(a)"
      ],
      "id": "05c53c4a"
    },
    {
      "cell_type": "markdown",
      "metadata": {},
      "source": [
        "#### Inheritance\n",
        "\n",
        "The whole point of classes, is that one can construct hierarchies of\n",
        "classes to avoid redefining the same methods many times. This is done by\n",
        "using inheritance."
      ],
      "id": "111d982b-cbe7-4964-aaf5-d6645c3d7953"
    },
    {
      "cell_type": "code",
      "execution_count": 167,
      "metadata": {},
      "outputs": [],
      "source": [
        "class Animal:\n",
        "    \n",
        "    def run(self): print(\"👣\"*4)\n",
        "\n",
        "class Dog(Animal):\n",
        "    def bark(self): print(\"Wouf\")\n",
        "        \n",
        "class Rabbit(Animal):\n",
        "    def run(self):\n",
        "        super().run() ; print( \"🐇\" )"
      ],
      "id": "66215e52"
    },
    {
      "cell_type": "code",
      "execution_count": 168,
      "metadata": {},
      "outputs": [],
      "source": [
        "Animal().run()\n",
        "dog = Dog()\n",
        "dog.run()\n",
        "dog.bark()\n",
        "Rabbit().run()"
      ],
      "id": "e8d8ca1e"
    },
    {
      "cell_type": "markdown",
      "metadata": {},
      "source": [
        "In the above example, the Dog class inherits from inherits the method\n",
        "`run` from the Animal class: it doesn’t need to be redefined again.\n",
        "Essentially, when `run(dog)` is called, since the method is not defined\n",
        "for a dog, python looks for the first ancestor of `dog` and applies the\n",
        "method of the ancestor.\n",
        "\n",
        "#### Special methods\n",
        "\n",
        "By conventions methods starting with double lowercase `__` are hidden.\n",
        "They don’t appear in tab completion. Several special methods can be\n",
        "reimplemented that way."
      ],
      "id": "45a0d6a3-6fc6-42bf-ad86-b9a7d93cf571"
    },
    {
      "cell_type": "code",
      "execution_count": 169,
      "metadata": {},
      "outputs": [],
      "source": [
        "class Calibration:\n",
        "    \n",
        "    def __init__(self, x=0.1, y=0.1, β=0.1):\n",
        "        if not (β>0) and (β<1):\n",
        "            raise Exception(\"Incorrect calibration\")\n",
        "        self.x = x\n",
        "        self.y = y\n",
        "        self.β = β\n",
        "    \n",
        "    def __str__(self):\n",
        "        return f\"Calibration(x={self.x},y={self.y}, β={self.β})\""
      ],
      "id": "a1a4fb0b"
    },
    {
      "cell_type": "code",
      "execution_count": 170,
      "metadata": {},
      "outputs": [],
      "source": [
        "str(Calibration() )"
      ],
      "id": "083bdfb0"
    },
    {
      "cell_type": "markdown",
      "metadata": {},
      "source": [
        "#### complement\n",
        "\n",
        "Python is not 100% object oriented. - some objects cannot be\n",
        "subclassed - basic types behave sometimes funny (interning strings)\n",
        "\n",
        "mindfuck: Something that destabilizes, confuses, or manipulates a\n",
        "person’s mind."
      ],
      "id": "96758110-cf38-4188-9022-11c85045ce94"
    },
    {
      "cell_type": "code",
      "execution_count": 171,
      "metadata": {},
      "outputs": [],
      "source": [
        "a = 'a'*4192\n",
        "b = 'a'*4192\n",
        "a is b"
      ],
      "id": "11050cd5"
    },
    {
      "cell_type": "code",
      "execution_count": 172,
      "metadata": {},
      "outputs": [],
      "source": [
        "a = 'a'*512\n",
        "b = 'a'*512\n",
        "a is b"
      ],
      "id": "fe1ee10b"
    }
  ],
  "nbformat": 4,
  "nbformat_minor": 5,
  "metadata": {
    "kernelspec": {
      "name": "python3",
      "display_name": "Python 3 (ipykernel)",
      "language": "python",
      "path": "/home/pablo/.local/share/jupyter/kernels/python3"
    },
    "language_info": {
      "name": "python",
      "codemirror_mode": {
        "name": "ipython",
        "version": "3"
      },
      "file_extension": ".py",
      "mimetype": "text/x-python",
      "nbconvert_exporter": "python",
      "pygments_lexer": "ipython3",
      "version": "3.11.10"
    }
  }
}